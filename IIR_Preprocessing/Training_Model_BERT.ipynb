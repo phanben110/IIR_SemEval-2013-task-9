{
  "cells": [
    {
      "cell_type": "code",
      "execution_count": 1,
      "metadata": {},
      "outputs": [
        {
          "name": "stdout",
          "output_type": "stream",
          "text": [
            "/home/iir/work/ben/NCKU/IIR/IIR_SemEval-2013-task-9/IIR_Preprocessing\n"
          ]
        }
      ],
      "source": [
        "!pwd"
      ]
    },
    {
      "cell_type": "code",
      "execution_count": 3,
      "metadata": {
        "colab": {
          "base_uri": "https://localhost:8080/",
          "height": 145,
          "referenced_widgets": [
            "e0e050c822944b909f6abe29cadaef42",
            "fd06b6b7c7144ee28a97bb3d6624bc3c",
            "67a3ba284469434394b10f7a71b024ce",
            "64055a077711457bb60ba78c665ed263",
            "43dd470cdce941b6bf4f2a165c3394d5",
            "5a352c8db0974970b1fbb9dcc91ea0c6",
            "786baaeb9fb142f2873170315bc4c7d7",
            "8c3cf7fb11e948f99c51e02d778b98bb",
            "701c5da686174b82ac181bad134981d5",
            "2df444adb0c142f8a3665fa49b0f7a0b",
            "3137f78defd244bf8af8cf2640efc49a",
            "684798351a99486980fefc7df00a2b4f",
            "fd22d461222e4899b8724218ba8063d8",
            "f10ee4a030864bf296cd48b8632798cc",
            "1906b938b35a4c04991371329cf53f8b",
            "bb762a2d06764285a34cf19b7c7575cd",
            "9a1bcb255506421a9361a854a76e56a8",
            "e6d6ed932f544a90b6ce71436cb41357",
            "083b967b8ecf451296c6e9a19e5ff494",
            "5a2bdffd0776439bb9093237a2a9da0e",
            "3ea712a449a34cefa93c5af8b53e0aaa",
            "b8328076bfb44c2e904f1324f2a68256",
            "24ce690ba0fd4c8bb38165739ffa57db",
            "a8232918bbbb4b018152f601cb4673d4",
            "91e4452740a74386a4c6d6199d47519c",
            "11b0e2fda9fb42739c20676d7807d3b2",
            "eaf77425e20340ef8c95848befff2644",
            "8f7198e20cd14063b915e8f643a8bd32",
            "211ca2685b114bc48c78ed0bc0d67eca",
            "288103d1b38a452198c6e6d86abc59da",
            "48b07d194a6742ee88174138853dcc0c",
            "84680bcff990448d83e14786a93d6ced",
            "0200fa9fb3604925a21958df7c19fd3a",
            "498b948d8d964b278bf7b03ba669ce8d",
            "03de369210a347febe330693d5bc89e7",
            "1420c43e859844acac8dc9be9002ea1a",
            "0b126448808d4510b3e711f506eb1146",
            "ee6203adc0534bccb85752830ec10393",
            "e49b7919ec804fd1a8c6d322715c21af",
            "6f8710eafa81440d900c0d0728f3a356",
            "a09360ac568b4947908f4bbed368aaf8",
            "e3b0a521b17c4fca82293b797a036ab5",
            "6ac4097742ff4cc6a5acc0f804f8bd0a",
            "9624176808c14340b64bdc168f0a58d7"
          ]
        },
        "id": "7iU6pUL0ByOl",
        "outputId": "dbbe9db3-bfd0-4704-887c-e1af1f3b71b9"
      },
      "outputs": [
        {
          "name": "stderr",
          "output_type": "stream",
          "text": [
            "/root/anaconda3/envs/augllms/lib/python3.11/site-packages/huggingface_hub/file_download.py:1142: FutureWarning: `resume_download` is deprecated and will be removed in version 1.0.0. Downloads always resume when possible. If you want to force a new download, use `force_download=True`.\n",
            "  warnings.warn(\n"
          ]
        }
      ],
      "source": [
        "import torch\n",
        "from torch.utils.data import Dataset, DataLoader\n",
        "from transformers import BertTokenizer, BertForSequenceClassification, AdamW\n",
        "from sklearn.model_selection import train_test_split\n",
        "from sklearn.preprocessing import LabelEncoder\n",
        "from sklearn.metrics import accuracy_score, precision_recall_fscore_support\n",
        "import pandas as pd\n",
        "from tqdm import tqdm\n",
        "from datetime import datetime\n",
        "from sklearn.preprocessing import LabelEncoder\n",
        "from sklearn.metrics import accuracy_score\n",
        "# Define the BERT tokenizer and model\n",
        "import os\n",
        "import numpy as np\n",
        "import seaborn as sns\n",
        "import matplotlib.pyplot as plt\n",
        "import torch.nn as nn\n",
        "from transformers import BertTokenizer, BertModel\n",
        "import os\n",
        "from datetime import datetime\n",
        "import torch\n",
        "import torch.nn as nn\n",
        "from tqdm import tqdm\n",
        "from sklearn.metrics import f1_score, precision_score, recall_score\n",
        "\n",
        "tokenizer = BertTokenizer.from_pretrained('bert-base-uncased')"
      ]
    },
    {
      "cell_type": "markdown",
      "metadata": {
        "id": "AONWC-NIB-71"
      },
      "source": [
        "# Data Preparation"
      ]
    },
    {
      "cell_type": "code",
      "execution_count": 4,
      "metadata": {
        "id": "2wkpGv0jByVz"
      },
      "outputs": [],
      "source": [
        "path_data_train = \"save_results/train_dataset.csv\"\n",
        "path_data_test = \"save_results/test_dataset.csv\"\n",
        "data_train = pd.read_csv(path_data_train, sep=',', encoding='utf-8')\n",
        "test_df = pd.read_csv(path_data_test, sep=',', encoding='utf-8')\n",
        "le = LabelEncoder()\n",
        "class_mapping = {\n",
        "    'false': 0,\n",
        "    'effect': 1,\n",
        "    'mechanism': 2,\n",
        "    'advise': 3,\n",
        "    'int': 4\n",
        "}\n",
        "# Fit and transform the 'pair type' column using the custom mapping\n",
        "data_train['pair type'] = le.fit_transform(data_train['pair type'].map(class_mapping))\n",
        "test_df['pair type'] = le.fit_transform(test_df['pair type'].map(class_mapping))\n",
        "# Split the data into training and validation sets\n",
        "train_df, val_df = train_test_split(data_train, test_size=0.1, random_state=42)"
      ]
    },
    {
      "cell_type": "code",
      "execution_count": 5,
      "metadata": {
        "colab": {
          "base_uri": "https://localhost:8080/"
        },
        "id": "MgcZz6cxByYM",
        "outputId": "09bc660f-9ec2-4459-a4f4-45bca5f3354a"
      },
      "outputs": [
        {
          "data": {
            "text/plain": [
              "((41058, 4), (5716, 4), (4563, 4))"
            ]
          },
          "execution_count": 5,
          "metadata": {},
          "output_type": "execute_result"
        }
      ],
      "source": [
        "train_df.shape, test_df.shape, val_df.shape"
      ]
    },
    {
      "cell_type": "code",
      "execution_count": 6,
      "metadata": {
        "colab": {
          "base_uri": "https://localhost:8080/",
          "height": 206
        },
        "id": "3WUQV7P4Byai",
        "outputId": "b312885f-ea56-41b8-ed8f-c602994e9b17"
      },
      "outputs": [
        {
          "data": {
            "text/html": [
              "\n",
              "  <div id=\"df-07f933da-bd32-48ba-bd77-ef6b44a6bae7\" class=\"colab-df-container\">\n",
              "    <div>\n",
              "<style scoped>\n",
              "    .dataframe tbody tr th:only-of-type {\n",
              "        vertical-align: middle;\n",
              "    }\n",
              "\n",
              "    .dataframe tbody tr th {\n",
              "        vertical-align: top;\n",
              "    }\n",
              "\n",
              "    .dataframe thead th {\n",
              "        text-align: right;\n",
              "    }\n",
              "</style>\n",
              "<table border=\"1\" class=\"dataframe\">\n",
              "  <thead>\n",
              "    <tr style=\"text-align: right;\">\n",
              "      <th></th>\n",
              "      <th>entity e1</th>\n",
              "      <th>entity e2</th>\n",
              "      <th>pair type</th>\n",
              "      <th>Full Sentence</th>\n",
              "    </tr>\n",
              "  </thead>\n",
              "  <tbody>\n",
              "    <tr>\n",
              "      <th>3095</th>\n",
              "      <td>olanzapine</td>\n",
              "      <td>haloperidol</td>\n",
              "      <td>0</td>\n",
              "      <td>In large, well controlled trials in patients w...</td>\n",
              "    </tr>\n",
              "    <tr>\n",
              "      <th>39459</th>\n",
              "      <td>disopyramide</td>\n",
              "      <td>hexobarbital</td>\n",
              "      <td>0</td>\n",
              "      <td>There have been reports of interactions of ery...</td>\n",
              "    </tr>\n",
              "    <tr>\n",
              "      <th>8723</th>\n",
              "      <td>phenobarbital</td>\n",
              "      <td>valproic acid</td>\n",
              "      <td>0</td>\n",
              "      <td>Similarly, the effects of phenytoin on phenoba...</td>\n",
              "    </tr>\n",
              "    <tr>\n",
              "      <th>8541</th>\n",
              "      <td>chlordiazepoxide</td>\n",
              "      <td>diazepam</td>\n",
              "      <td>0</td>\n",
              "      <td>The most commonly occurring drug interactions ...</td>\n",
              "    </tr>\n",
              "    <tr>\n",
              "      <th>14576</th>\n",
              "      <td>acetaminophen</td>\n",
              "      <td>ketorolac tromethamine</td>\n",
              "      <td>0</td>\n",
              "      <td>Therapeutic concentrations of digoxin, warfari...</td>\n",
              "    </tr>\n",
              "  </tbody>\n",
              "</table>\n",
              "</div>\n",
              "    <div class=\"colab-df-buttons\">\n",
              "\n",
              "  <div class=\"colab-df-container\">\n",
              "    <button class=\"colab-df-convert\" onclick=\"convertToInteractive('df-07f933da-bd32-48ba-bd77-ef6b44a6bae7')\"\n",
              "            title=\"Convert this dataframe to an interactive table.\"\n",
              "            style=\"display:none;\">\n",
              "\n",
              "  <svg xmlns=\"http://www.w3.org/2000/svg\" height=\"24px\" viewBox=\"0 -960 960 960\">\n",
              "    <path d=\"M120-120v-720h720v720H120Zm60-500h600v-160H180v160Zm220 220h160v-160H400v160Zm0 220h160v-160H400v160ZM180-400h160v-160H180v160Zm440 0h160v-160H620v160ZM180-180h160v-160H180v160Zm440 0h160v-160H620v160Z\"/>\n",
              "  </svg>\n",
              "    </button>\n",
              "\n",
              "  <style>\n",
              "    .colab-df-container {\n",
              "      display:flex;\n",
              "      gap: 12px;\n",
              "    }\n",
              "\n",
              "    .colab-df-convert {\n",
              "      background-color: #E8F0FE;\n",
              "      border: none;\n",
              "      border-radius: 50%;\n",
              "      cursor: pointer;\n",
              "      display: none;\n",
              "      fill: #1967D2;\n",
              "      height: 32px;\n",
              "      padding: 0 0 0 0;\n",
              "      width: 32px;\n",
              "    }\n",
              "\n",
              "    .colab-df-convert:hover {\n",
              "      background-color: #E2EBFA;\n",
              "      box-shadow: 0px 1px 2px rgba(60, 64, 67, 0.3), 0px 1px 3px 1px rgba(60, 64, 67, 0.15);\n",
              "      fill: #174EA6;\n",
              "    }\n",
              "\n",
              "    .colab-df-buttons div {\n",
              "      margin-bottom: 4px;\n",
              "    }\n",
              "\n",
              "    [theme=dark] .colab-df-convert {\n",
              "      background-color: #3B4455;\n",
              "      fill: #D2E3FC;\n",
              "    }\n",
              "\n",
              "    [theme=dark] .colab-df-convert:hover {\n",
              "      background-color: #434B5C;\n",
              "      box-shadow: 0px 1px 3px 1px rgba(0, 0, 0, 0.15);\n",
              "      filter: drop-shadow(0px 1px 2px rgba(0, 0, 0, 0.3));\n",
              "      fill: #FFFFFF;\n",
              "    }\n",
              "  </style>\n",
              "\n",
              "    <script>\n",
              "      const buttonEl =\n",
              "        document.querySelector('#df-07f933da-bd32-48ba-bd77-ef6b44a6bae7 button.colab-df-convert');\n",
              "      buttonEl.style.display =\n",
              "        google.colab.kernel.accessAllowed ? 'block' : 'none';\n",
              "\n",
              "      async function convertToInteractive(key) {\n",
              "        const element = document.querySelector('#df-07f933da-bd32-48ba-bd77-ef6b44a6bae7');\n",
              "        const dataTable =\n",
              "          await google.colab.kernel.invokeFunction('convertToInteractive',\n",
              "                                                    [key], {});\n",
              "        if (!dataTable) return;\n",
              "\n",
              "        const docLinkHtml = 'Like what you see? Visit the ' +\n",
              "          '<a target=\"_blank\" href=https://colab.research.google.com/notebooks/data_table.ipynb>data table notebook</a>'\n",
              "          + ' to learn more about interactive tables.';\n",
              "        element.innerHTML = '';\n",
              "        dataTable['output_type'] = 'display_data';\n",
              "        await google.colab.output.renderOutput(dataTable, element);\n",
              "        const docLink = document.createElement('div');\n",
              "        docLink.innerHTML = docLinkHtml;\n",
              "        element.appendChild(docLink);\n",
              "      }\n",
              "    </script>\n",
              "  </div>\n",
              "\n",
              "\n",
              "<div id=\"df-15681c59-0e61-4e57-ab29-99e3c2dbee87\">\n",
              "  <button class=\"colab-df-quickchart\" onclick=\"quickchart('df-15681c59-0e61-4e57-ab29-99e3c2dbee87')\"\n",
              "            title=\"Suggest charts\"\n",
              "            style=\"display:none;\">\n",
              "\n",
              "<svg xmlns=\"http://www.w3.org/2000/svg\" height=\"24px\"viewBox=\"0 0 24 24\"\n",
              "     width=\"24px\">\n",
              "    <g>\n",
              "        <path d=\"M19 3H5c-1.1 0-2 .9-2 2v14c0 1.1.9 2 2 2h14c1.1 0 2-.9 2-2V5c0-1.1-.9-2-2-2zM9 17H7v-7h2v7zm4 0h-2V7h2v10zm4 0h-2v-4h2v4z\"/>\n",
              "    </g>\n",
              "</svg>\n",
              "  </button>\n",
              "\n",
              "<style>\n",
              "  .colab-df-quickchart {\n",
              "      --bg-color: #E8F0FE;\n",
              "      --fill-color: #1967D2;\n",
              "      --hover-bg-color: #E2EBFA;\n",
              "      --hover-fill-color: #174EA6;\n",
              "      --disabled-fill-color: #AAA;\n",
              "      --disabled-bg-color: #DDD;\n",
              "  }\n",
              "\n",
              "  [theme=dark] .colab-df-quickchart {\n",
              "      --bg-color: #3B4455;\n",
              "      --fill-color: #D2E3FC;\n",
              "      --hover-bg-color: #434B5C;\n",
              "      --hover-fill-color: #FFFFFF;\n",
              "      --disabled-bg-color: #3B4455;\n",
              "      --disabled-fill-color: #666;\n",
              "  }\n",
              "\n",
              "  .colab-df-quickchart {\n",
              "    background-color: var(--bg-color);\n",
              "    border: none;\n",
              "    border-radius: 50%;\n",
              "    cursor: pointer;\n",
              "    display: none;\n",
              "    fill: var(--fill-color);\n",
              "    height: 32px;\n",
              "    padding: 0;\n",
              "    width: 32px;\n",
              "  }\n",
              "\n",
              "  .colab-df-quickchart:hover {\n",
              "    background-color: var(--hover-bg-color);\n",
              "    box-shadow: 0 1px 2px rgba(60, 64, 67, 0.3), 0 1px 3px 1px rgba(60, 64, 67, 0.15);\n",
              "    fill: var(--button-hover-fill-color);\n",
              "  }\n",
              "\n",
              "  .colab-df-quickchart-complete:disabled,\n",
              "  .colab-df-quickchart-complete:disabled:hover {\n",
              "    background-color: var(--disabled-bg-color);\n",
              "    fill: var(--disabled-fill-color);\n",
              "    box-shadow: none;\n",
              "  }\n",
              "\n",
              "  .colab-df-spinner {\n",
              "    border: 2px solid var(--fill-color);\n",
              "    border-color: transparent;\n",
              "    border-bottom-color: var(--fill-color);\n",
              "    animation:\n",
              "      spin 1s steps(1) infinite;\n",
              "  }\n",
              "\n",
              "  @keyframes spin {\n",
              "    0% {\n",
              "      border-color: transparent;\n",
              "      border-bottom-color: var(--fill-color);\n",
              "      border-left-color: var(--fill-color);\n",
              "    }\n",
              "    20% {\n",
              "      border-color: transparent;\n",
              "      border-left-color: var(--fill-color);\n",
              "      border-top-color: var(--fill-color);\n",
              "    }\n",
              "    30% {\n",
              "      border-color: transparent;\n",
              "      border-left-color: var(--fill-color);\n",
              "      border-top-color: var(--fill-color);\n",
              "      border-right-color: var(--fill-color);\n",
              "    }\n",
              "    40% {\n",
              "      border-color: transparent;\n",
              "      border-right-color: var(--fill-color);\n",
              "      border-top-color: var(--fill-color);\n",
              "    }\n",
              "    60% {\n",
              "      border-color: transparent;\n",
              "      border-right-color: var(--fill-color);\n",
              "    }\n",
              "    80% {\n",
              "      border-color: transparent;\n",
              "      border-right-color: var(--fill-color);\n",
              "      border-bottom-color: var(--fill-color);\n",
              "    }\n",
              "    90% {\n",
              "      border-color: transparent;\n",
              "      border-bottom-color: var(--fill-color);\n",
              "    }\n",
              "  }\n",
              "</style>\n",
              "\n",
              "  <script>\n",
              "    async function quickchart(key) {\n",
              "      const quickchartButtonEl =\n",
              "        document.querySelector('#' + key + ' button');\n",
              "      quickchartButtonEl.disabled = true;  // To prevent multiple clicks.\n",
              "      quickchartButtonEl.classList.add('colab-df-spinner');\n",
              "      try {\n",
              "        const charts = await google.colab.kernel.invokeFunction(\n",
              "            'suggestCharts', [key], {});\n",
              "      } catch (error) {\n",
              "        console.error('Error during call to suggestCharts:', error);\n",
              "      }\n",
              "      quickchartButtonEl.classList.remove('colab-df-spinner');\n",
              "      quickchartButtonEl.classList.add('colab-df-quickchart-complete');\n",
              "    }\n",
              "    (() => {\n",
              "      let quickchartButtonEl =\n",
              "        document.querySelector('#df-15681c59-0e61-4e57-ab29-99e3c2dbee87 button');\n",
              "      quickchartButtonEl.style.display =\n",
              "        google.colab.kernel.accessAllowed ? 'block' : 'none';\n",
              "    })();\n",
              "  </script>\n",
              "</div>\n",
              "\n",
              "    </div>\n",
              "  </div>\n"
            ],
            "text/plain": [
              "              entity e1               entity e2  pair type  \\\n",
              "3095         olanzapine             haloperidol          0   \n",
              "39459      disopyramide            hexobarbital          0   \n",
              "8723      phenobarbital           valproic acid          0   \n",
              "8541   chlordiazepoxide                diazepam          0   \n",
              "14576     acetaminophen  ketorolac tromethamine          0   \n",
              "\n",
              "                                           Full Sentence  \n",
              "3095   In large, well controlled trials in patients w...  \n",
              "39459  There have been reports of interactions of ery...  \n",
              "8723   Similarly, the effects of phenytoin on phenoba...  \n",
              "8541   The most commonly occurring drug interactions ...  \n",
              "14576  Therapeutic concentrations of digoxin, warfari...  "
            ]
          },
          "execution_count": 6,
          "metadata": {},
          "output_type": "execute_result"
        }
      ],
      "source": [
        "train_df.head()"
      ]
    },
    {
      "cell_type": "markdown",
      "metadata": {
        "id": "MZ9YzKsnCRL3"
      },
      "source": [
        "# Quick EDA"
      ]
    },
    {
      "cell_type": "code",
      "execution_count": 7,
      "metadata": {
        "colab": {
          "base_uri": "https://localhost:8080/",
          "height": 449
        },
        "id": "9Xz7tB_2BydI",
        "outputId": "0b4f7456-8ee9-405a-da32-371e0bb26c49"
      },
      "outputs": [
        {
          "data": {
            "image/png": "[encoded data removed]",
            "text/plain": [
              "<Figure size 640x480 with 1 Axes>"
            ]
          },
          "metadata": {},
          "output_type": "display_data"
        }
      ],
      "source": [
        "sns.countplot(data=train_df, x=\"pair type\");"
      ]
    },
    {
      "cell_type": "markdown",
      "metadata": {
        "id": "QjJh4cQ7CkOJ"
      },
      "source": [
        "# Statistics about length of text"
      ]
    },
    {
      "cell_type": "code",
      "execution_count": 8,
      "metadata": {
        "colab": {
          "base_uri": "https://localhost:8080/"
        },
        "id": "5EpV8fIaCgZt",
        "outputId": "4f141d69-7ac6-43ba-c6c1-82060b2b1424"
      },
      "outputs": [
        {
          "data": {
            "text/plain": [
              "count    41058.000000\n",
              "mean       350.241390\n",
              "std        254.331494\n",
              "min         19.000000\n",
              "25%        174.000000\n",
              "50%        261.000000\n",
              "75%        421.000000\n",
              "max       1010.000000\n",
              "Name: text_length, dtype: float64"
            ]
          },
          "execution_count": 8,
          "metadata": {},
          "output_type": "execute_result"
        }
      ],
      "source": [
        "train_df['text_length'] = train_df['Full Sentence'].apply(len)\n",
        "summary = train_df['text_length'].describe()\n",
        "summary"
      ]
    },
    {
      "cell_type": "code",
      "execution_count": 9,
      "metadata": {
        "colab": {
          "base_uri": "https://localhost:8080/",
          "height": 450
        },
        "id": "O3GmioaPCmBI",
        "outputId": "b7b66a35-016d-45ba-dd64-948e19398a35"
      },
      "outputs": [
        {
          "data": {
            "image/png": "[encoded data removed]",
            "text/plain": [
              "<Figure size 640x480 with 1 Axes>"
            ]
          },
          "metadata": {},
          "output_type": "display_data"
        }
      ],
      "source": [
        "sns.boxplot(data=train_df, x='text_length');"
      ]
    },
    {
      "cell_type": "code",
      "execution_count": 10,
      "metadata": {
        "colab": {
          "base_uri": "https://localhost:8080/",
          "height": 450
        },
        "id": "Oi_7ZiODCnmp",
        "outputId": "96105939-aae5-4624-cf78-cd9dc166c75f"
      },
      "outputs": [
        {
          "data": {
            "image/png": "[encoded data removed]",
            "text/plain": [
              "<Figure size 640x480 with 1 Axes>"
            ]
          },
          "metadata": {},
          "output_type": "display_data"
        }
      ],
      "source": [
        "sns.histplot(data=train_df, x='text_length')\n",
        "plt.axvline(summary['min'], color='r', linestyle='--', label='Min')\n",
        "plt.axvline(summary['25%'], color='b', linestyle='--', label='25%')\n",
        "plt.axvline(summary['50%'], color='g', linestyle='--', label='Median')\n",
        "plt.axvline(summary['75%'], color='b', linestyle='--', label='75%')\n",
        "plt.axvline(summary['max'], color='r', linestyle='--', label='Max')\n",
        "plt.legend();"
      ]
    },
    {
      "cell_type": "code",
      "execution_count": 11,
      "metadata": {
        "id": "Q7gCCNVwCpaJ"
      },
      "outputs": [],
      "source": [
        "# Tokenize and encode the sentences\n",
        "class MyDataset(Dataset):\n",
        "    def __init__(self, df, tokenizer, max_len):\n",
        "        self.data = df\n",
        "        self.tokenizer = tokenizer\n",
        "        self.max_len = max_len\n",
        "\n",
        "    def __len__(self):\n",
        "        return len(self.data)\n",
        "\n",
        "    def __getitem__(self, index):\n",
        "        sentence = self.data.iloc[index]['Full Sentence']\n",
        "        e1 = self.data.iloc[index]['entity e1']\n",
        "        e2 = self.data.iloc[index]['entity e2']\n",
        "        pair_type = self.data.iloc[index]['pair type']\n",
        "\n",
        "        #input_text = f\"{sentence} [SEP] {e1} [SEP] {e2}\"\n",
        "        input_text = f\"{sentence} [SEP] {e1} [SEP] {e2}\"\n",
        "\n",
        "        encoding = self.tokenizer.encode_plus(\n",
        "            input_text,\n",
        "            add_special_tokens=True,\n",
        "            truncation=True,\n",
        "            max_length=self.max_len,\n",
        "            return_token_type_ids=False,\n",
        "            padding='max_length',\n",
        "            return_attention_mask=True,\n",
        "            return_tensors='pt',\n",
        "        )\n",
        "\n",
        "        return {\n",
        "            'text': input_text,\n",
        "            'input_ids': encoding['input_ids'].flatten(),\n",
        "            'attention_mask': encoding['attention_mask'].flatten(),\n",
        "            'labels': torch.tensor(pair_type, dtype=torch.long)\n",
        "        }\n"
      ]
    },
    {
      "cell_type": "markdown",
      "metadata": {
        "id": "PDiqN9fQCsC9"
      },
      "source": [
        "# Tokenizer"
      ]
    },
    {
      "cell_type": "code",
      "execution_count": 12,
      "metadata": {
        "id": "Is4dB2t8Cto7"
      },
      "outputs": [],
      "source": [
        "# create an instance of the BERT tokenizer\n",
        "tokenizer = BertTokenizer.from_pretrained('bert-base-uncased')"
      ]
    },
    {
      "cell_type": "code",
      "execution_count": 13,
      "metadata": {
        "id": "IrjzQoMICwQW"
      },
      "outputs": [],
      "source": [
        "# set the batch size\n",
        "batch_size = 100\n",
        "num_epochs = 200  # Adjust as needed\n",
        "\n",
        "# set the maximum sequence length\n",
        "max_len = 150\n",
        "\n",
        "# create data loaders for the training and validation sets\n",
        "train_dataset = MyDataset(train_df, tokenizer, max_len)\n",
        "train_loader = DataLoader(train_dataset, batch_size=batch_size, shuffle=True)\n",
        "\n",
        "val_dataset = MyDataset(val_df, tokenizer, max_len)\n",
        "val_loader = DataLoader(val_dataset, batch_size=batch_size)\n",
        "\n",
        "test_dataset = MyDataset(test_df, tokenizer, max_len)\n",
        "test_loader = DataLoader(test_dataset, batch_size=batch_size)"
      ]
    },
    {
      "cell_type": "markdown",
      "metadata": {
        "id": "j0OH3AJuCybD"
      },
      "source": [
        "# Model"
      ]
    },
    {
      "cell_type": "code",
      "execution_count": 14,
      "metadata": {
        "id": "iDL9F2boCxW2"
      },
      "outputs": [],
      "source": [
        "class BertSentimentClassifier(nn.Module):\n",
        "    def __init__(self, bert_model_name, num_classes):\n",
        "        super(BertSentimentClassifier, self).__init__()\n",
        "\n",
        "        self.bert = BertModel.from_pretrained(bert_model_name)\n",
        "        self.dropout1 = nn.Dropout(0.2)\n",
        "        self.fc1 = nn.Linear(self.bert.config.hidden_size, 256)\n",
        "        self.dropout2 = nn.Dropout(0.2)\n",
        "        self.fc2 = nn.Linear(256, num_classes)\n",
        "\n",
        "\n",
        "    def forward(self, input_ids, attention_mask):\n",
        "        outputs = self.bert(input_ids=input_ids, attention_mask=attention_mask)\n",
        "        pooled_output = outputs.pooler_output\n",
        "        pooled_output = self.dropout1(pooled_output)\n",
        "        output = self.fc1(pooled_output)\n",
        "        output = self.dropout2(output)\n",
        "        logits = self.fc2(output)\n",
        "\n",
        "        return logits"
      ]
    },
    {
      "cell_type": "code",
      "execution_count": 15,
      "metadata": {
        "colab": {
          "base_uri": "https://localhost:8080/",
          "height": 49,
          "referenced_widgets": [
            "a90ab109b156474b900c0700c78e742f",
            "e90c45bbdd634e0989aef8d5f2372217",
            "bef3f54b54af41ff89f4344cfb2f79e2",
            "fbd95c9c9ea1444f9227c67213c68d61",
            "48d91bcafcd049609f976f69a87bc387",
            "b193bbfa554a4e4f9755d3750515f674",
            "5e8ec6a33cb94481a14335637eb041f0",
            "3f37baf1624b42209ee601598e1f1aa9",
            "60ff803316e24cfaaadf1aed4aa13cbe",
            "3c5196562caf47828deada4315a5697c",
            "bf1004db8aed4bf6869dca7e54d6e1b2"
          ]
        },
        "id": "c22_tFLCC1AK",
        "outputId": "289e3c9e-56e2-41ad-c4f5-df3dd7936db6"
      },
      "outputs": [
        {
          "data": {
            "application/vnd.jupyter.widget-view+json": {
              "model_id": "a90ab109b156474b900c0700c78e742f",
              "version_major": 2,
              "version_minor": 0
            },
            "text/plain": [
              "model.safetensors:   0%|          | 0.00/440M [00:00<?, ?B/s]"
            ]
          },
          "metadata": {},
          "output_type": "display_data"
        }
      ],
      "source": [
        "bert_model_name = \"bert-base-uncased\"\n",
        "num_classes = train_df[\"pair type\"].nunique()\n",
        "model = BertSentimentClassifier(bert_model_name, num_classes)\n",
        "criterion = nn.CrossEntropyLoss()"
      ]
    },
    {
      "cell_type": "markdown",
      "metadata": {
        "id": "DRI-wqR6C6QH"
      },
      "source": [
        "# Training\n"
      ]
    },
    {
      "cell_type": "code",
      "execution_count": 16,
      "metadata": {
        "id": "PaXnv_2OC3aU"
      },
      "outputs": [],
      "source": [
        "def train(model, data_loader, optimizer, criterion, device):\n",
        "    # set the model to train mode\n",
        "    model.train()\n",
        "\n",
        "    # initialize the loss, accuracy, precision, recall, and f1_score variables\n",
        "    total_loss, total_accuracy = 0, 0\n",
        "    total_precision, total_recall, total_f1 = 0, 0, 0\n",
        "\n",
        "    # iterate over the data loader\n",
        "    for data in tqdm(data_loader):\n",
        "        # move the inputs to the device\n",
        "        input_ids = data['input_ids'].to(device)\n",
        "        attention_mask = data['attention_mask'].to(device)\n",
        "        labels = data['labels'].to(device)\n",
        "\n",
        "        # zero the gradient\n",
        "        optimizer.zero_grad()\n",
        "\n",
        "        # get the model's predictions\n",
        "        outputs = model(input_ids, attention_mask)\n",
        "\n",
        "        # get the loss\n",
        "        loss = criterion(outputs, labels)\n",
        "        total_loss += loss.item()\n",
        "\n",
        "        # accuracy calculation\n",
        "        logits = outputs.detach().cpu().numpy()\n",
        "        label_ids = labels.to('cpu').numpy()\n",
        "\n",
        "        total_accuracy += flat_accuracy(logits, label_ids)\n",
        "\n",
        "        # calculate precision, recall, and f1 score\n",
        "        total_precision += precision_score(label_ids, np.argmax(logits, axis=1), average='weighted')\n",
        "        total_recall += recall_score(label_ids, np.argmax(logits, axis=1), average='weighted')\n",
        "        total_f1 += f1_score(label_ids, np.argmax(logits, axis=1), average='weighted')\n",
        "\n",
        "        # perform backpropagation and optimization\n",
        "        loss.backward()\n",
        "        optimizer.step()\n",
        "\n",
        "    # calculate the average loss, accuracy, precision, recall, and f1 score\n",
        "    avg_loss = total_loss / len(data_loader)\n",
        "    avg_acc = total_accuracy / len(data_loader)\n",
        "    avg_precision = total_precision / len(data_loader)\n",
        "    avg_recall = total_recall / len(data_loader)\n",
        "    avg_f1 = total_f1 / len(data_loader)\n",
        "\n",
        "    return avg_loss, avg_acc, avg_precision, avg_recall, avg_f1\n"
      ]
    },
    {
      "cell_type": "code",
      "execution_count": 17,
      "metadata": {
        "id": "NjD2UZ9wC9LF"
      },
      "outputs": [],
      "source": [
        "def flat_accuracy(preds, labels):\n",
        "    pred_flat = np.argmax(preds, axis=1).flatten()\n",
        "    labels_flat = labels.flatten()\n",
        "    return np.sum(pred_flat == labels_flat) / len(labels_flat)"
      ]
    },
    {
      "cell_type": "code",
      "execution_count": 18,
      "metadata": {
        "id": "uCord8zNC_EA"
      },
      "outputs": [],
      "source": [
        "def evaluate(model, data_loader, criterion, device):\n",
        "    # set the model to eval mode\n",
        "    model.eval()\n",
        "\n",
        "    # initialize the loss, accuracy, precision, recall, and f1_score variables\n",
        "    total_loss = 0\n",
        "    total_accuracy = 0\n",
        "    total_precision = 0\n",
        "    total_recall = 0\n",
        "    total_f1 = 0\n",
        "\n",
        "    # iterate over the data loader\n",
        "    for data in tqdm(data_loader):\n",
        "        # move the inputs to the device\n",
        "        input_ids = data['input_ids'].to(device)\n",
        "        attention_mask = data['attention_mask'].to(device)\n",
        "        labels = data['labels'].to(device)\n",
        "\n",
        "        # disable gradient computation\n",
        "        with torch.no_grad():\n",
        "            # get the model's predictions\n",
        "            outputs = model(input_ids, attention_mask)\n",
        "\n",
        "            # get the loss\n",
        "            loss = criterion(outputs, labels)\n",
        "            total_loss += loss.item()\n",
        "\n",
        "            # calculate the number of correct predictions\n",
        "            logits = outputs.detach().cpu().numpy()\n",
        "            label_ids = labels.to('cpu').numpy()\n",
        "\n",
        "            total_accuracy += flat_accuracy(logits, label_ids)\n",
        "\n",
        "            # calculate precision, recall, and f1 score\n",
        "            total_precision += precision_score(label_ids, np.argmax(logits, axis=1), average='weighted')\n",
        "            total_recall += recall_score(label_ids, np.argmax(logits, axis=1), average='weighted')\n",
        "            total_f1 += f1_score(label_ids, np.argmax(logits, axis=1), average='weighted')\n",
        "\n",
        "    # calculate the average loss, accuracy, precision, recall, and f1 score\n",
        "    avg_loss = total_loss / len(data_loader)\n",
        "    accuracy = total_accuracy / len(data_loader)\n",
        "    precision = total_precision / len(data_loader)\n",
        "    recall = total_recall / len(data_loader)\n",
        "    f1 = total_f1 / len(data_loader)\n",
        "\n",
        "    return avg_loss, accuracy, precision, recall, f1"
      ]
    },
    {
      "cell_type": "code",
      "execution_count": 19,
      "metadata": {
        "id": "p2wgkuDZGrDf"
      },
      "outputs": [],
      "source": [
        "# Function to calculate F1 score, Precision, Recall\n",
        "def calculate_metrics(predictions, labels):\n",
        "    predictions = torch.argmax(predictions, dim=1).cpu().numpy()\n",
        "    labels = labels.cpu().numpy()\n",
        "\n",
        "    f1 = f1_score(labels, predictions, average='weighted')\n",
        "    precision = precision_score(labels, predictions, average='weighted')\n",
        "    recall = recall_score(labels, predictions, average='weighted')\n",
        "\n",
        "    return f1, precision, recall"
      ]
    },
    {
      "cell_type": "code",
      "execution_count": null,
      "metadata": {
        "colab": {
          "background_save": true,
          "base_uri": "https://localhost:8080/"
        },
        "id": "-7PwhExPDA6f",
        "outputId": "d2108a53-2685-4b34-aac9-d4e2b090e1ff"
      },
      "outputs": [
        {
          "name": "stdout",
          "output_type": "stream",
          "text": [
            "Epoch 1/200\n"
          ]
        },
        {
          "name": "stderr",
          "output_type": "stream",
          "text": [
            "100%|██████████| 411/411 [06:17<00:00,  1.09it/s]\n",
            "100%|██████████| 46/46 [00:20<00:00,  2.27it/s]\n",
            "100%|██████████| 58/58 [00:23<00:00,  2.42it/s]\n"
          ]
        },
        {
          "name": "stdout",
          "output_type": "stream",
          "text": [
            "Train -- Loss: 0.4087 | Acc: 0.8788 | Precision: 0.8313 | Recall: 0.8788 | F1: 0.8469\n",
            "Val   -- Loss: 0.2336 | Acc: 0.9163 | Precision: 0.9086 | Recall: 0.9163 | F1: 0.9041\n",
            "Test  -- Loss: 0.3449 | Acc: 0.8808 | Precision: 0.8645 | Recall: 0.8808 | F1: 0.8650\n",
            "Time Elapsed: 0:07:12.560018, Time Remaining: 23:54:39.443582 \n",
            "\n",
            "Epoch 2/200\n"
          ]
        },
        {
          "name": "stderr",
          "output_type": "stream",
          "text": [
            "100%|██████████| 411/411 [06:14<00:00,  1.10it/s]\n",
            "100%|██████████| 46/46 [00:20<00:00,  2.28it/s]\n",
            "100%|██████████| 58/58 [00:23<00:00,  2.43it/s]\n"
          ]
        },
        {
          "name": "stdout",
          "output_type": "stream",
          "text": [
            "Train -- Loss: 0.1939 | Acc: 0.9290 | Precision: 0.9291 | Recall: 0.9290 | F1: 0.9244\n",
            "Val   -- Loss: 0.1777 | Acc: 0.9271 | Precision: 0.9306 | Recall: 0.9271 | F1: 0.9223\n",
            "Test  -- Loss: 0.3594 | Acc: 0.8848 | Precision: 0.8838 | Recall: 0.8848 | F1: 0.8754\n",
            "Time Elapsed: 0:06:59.139676, Time Remaining: 23:03:09.655848 \n",
            "\n",
            "Epoch 3/200\n"
          ]
        },
        {
          "name": "stderr",
          "output_type": "stream",
          "text": [
            "100%|██████████| 411/411 [06:12<00:00,  1.10it/s]\n",
            "100%|██████████| 46/46 [00:20<00:00,  2.27it/s]\n",
            "100%|██████████| 58/58 [00:23<00:00,  2.44it/s]\n"
          ]
        },
        {
          "name": "stdout",
          "output_type": "stream",
          "text": [
            "Train -- Loss: 0.1518 | Acc: 0.9391 | Precision: 0.9405 | Recall: 0.9391 | F1: 0.9356\n",
            "Val   -- Loss: 0.1575 | Acc: 0.9301 | Precision: 0.9347 | Recall: 0.9301 | F1: 0.9295\n",
            "Test  -- Loss: 0.3696 | Acc: 0.8881 | Precision: 0.8941 | Recall: 0.8881 | F1: 0.8846\n",
            "Time Elapsed: 0:06:58.000203, Time Remaining: 22:52:26.039991 \n",
            "\n",
            "Epoch 4/200\n"
          ]
        },
        {
          "name": "stderr",
          "output_type": "stream",
          "text": [
            "100%|██████████| 411/411 [06:12<00:00,  1.10it/s]\n",
            "100%|██████████| 46/46 [00:20<00:00,  2.28it/s]\n",
            "100%|██████████| 58/58 [00:23<00:00,  2.44it/s]\n"
          ]
        },
        {
          "name": "stdout",
          "output_type": "stream",
          "text": [
            "Train -- Loss: 0.1331 | Acc: 0.9437 | Precision: 0.9457 | Recall: 0.9437 | F1: 0.9409\n",
            "Val   -- Loss: 0.1503 | Acc: 0.9274 | Precision: 0.9305 | Recall: 0.9274 | F1: 0.9261\n",
            "Test  -- Loss: 0.3913 | Acc: 0.8869 | Precision: 0.8994 | Recall: 0.8869 | F1: 0.8865\n",
            "Time Elapsed: 0:06:57.704543, Time Remaining: 22:44:30.090428 \n",
            "\n",
            "Epoch 5/200\n"
          ]
        },
        {
          "name": "stderr",
          "output_type": "stream",
          "text": [
            "100%|██████████| 411/411 [06:13<00:00,  1.10it/s]\n",
            "100%|██████████| 46/46 [00:20<00:00,  2.22it/s]\n",
            "100%|██████████| 58/58 [00:23<00:00,  2.42it/s]\n"
          ]
        },
        {
          "name": "stdout",
          "output_type": "stream",
          "text": [
            "Train -- Loss: 0.1223 | Acc: 0.9462 | Precision: 0.9467 | Recall: 0.9462 | F1: 0.9432\n",
            "Val   -- Loss: 0.1429 | Acc: 0.9334 | Precision: 0.9328 | Recall: 0.9334 | F1: 0.9271\n",
            "Test  -- Loss: 0.3835 | Acc: 0.8919 | Precision: 0.8939 | Recall: 0.8919 | F1: 0.8855\n",
            "Time Elapsed: 0:06:59.361707, Time Remaining: 22:42:55.532865 \n",
            "\n",
            "Epoch 6/200\n"
          ]
        },
        {
          "name": "stderr",
          "output_type": "stream",
          "text": [
            "100%|██████████| 411/411 [06:14<00:00,  1.10it/s]\n",
            "100%|██████████| 46/46 [00:20<00:00,  2.27it/s]\n",
            "100%|██████████| 58/58 [00:23<00:00,  2.42it/s]\n"
          ]
        },
        {
          "name": "stdout",
          "output_type": "stream",
          "text": [
            "Train -- Loss: 0.1169 | Acc: 0.9478 | Precision: 0.9489 | Recall: 0.9478 | F1: 0.9448\n",
            "Val   -- Loss: 0.1464 | Acc: 0.9344 | Precision: 0.9329 | Recall: 0.9344 | F1: 0.9263\n",
            "Test  -- Loss: 0.3825 | Acc: 0.8931 | Precision: 0.8909 | Recall: 0.8931 | F1: 0.8838\n",
            "Time Elapsed: 0:06:58.660982, Time Remaining: 22:33:40.230508 \n",
            "\n",
            "Epoch 7/200\n"
          ]
        },
        {
          "name": "stderr",
          "output_type": "stream",
          "text": [
            "100%|██████████| 411/411 [06:14<00:00,  1.10it/s]\n",
            "100%|██████████| 46/46 [00:20<00:00,  2.26it/s]\n",
            "100%|██████████| 58/58 [00:24<00:00,  2.41it/s]\n"
          ]
        },
        {
          "name": "stdout",
          "output_type": "stream",
          "text": [
            "Train -- Loss: 0.1128 | Acc: 0.9489 | Precision: 0.9491 | Recall: 0.9489 | F1: 0.9456\n",
            "Val   -- Loss: 0.1364 | Acc: 0.9391 | Precision: 0.9365 | Recall: 0.9391 | F1: 0.9310\n",
            "Test  -- Loss: 0.3427 | Acc: 0.9006 | Precision: 0.8931 | Recall: 0.9006 | F1: 0.8886\n",
            "Time Elapsed: 0:06:59.452735, Time Remaining: 22:29:14.377855 \n",
            "\n",
            "Epoch 8/200\n"
          ]
        },
        {
          "name": "stderr",
          "output_type": "stream",
          "text": [
            "100%|██████████| 411/411 [06:14<00:00,  1.10it/s]\n",
            "100%|██████████| 46/46 [00:20<00:00,  2.27it/s]\n",
            "100%|██████████| 58/58 [00:23<00:00,  2.43it/s]\n"
          ]
        },
        {
          "name": "stdout",
          "output_type": "stream",
          "text": [
            "Train -- Loss: 0.1095 | Acc: 0.9503 | Precision: 0.9518 | Recall: 0.9503 | F1: 0.9477\n",
            "Val   -- Loss: 0.1355 | Acc: 0.9392 | Precision: 0.9380 | Recall: 0.9392 | F1: 0.9325\n",
            "Test  -- Loss: 0.3733 | Acc: 0.8950 | Precision: 0.8932 | Recall: 0.8950 | F1: 0.8865\n",
            "Time Elapsed: 0:06:59.924592, Time Remaining: 22:23:45.521664 \n",
            "\n",
            "Epoch 9/200\n"
          ]
        },
        {
          "name": "stderr",
          "output_type": "stream",
          "text": [
            "100%|██████████| 411/411 [06:14<00:00,  1.10it/s]\n",
            "100%|██████████| 46/46 [00:20<00:00,  2.27it/s]\n",
            "100%|██████████| 58/58 [00:23<00:00,  2.44it/s]\n"
          ]
        },
        {
          "name": "stdout",
          "output_type": "stream",
          "text": [
            "Train -- Loss: 0.1060 | Acc: 0.9521 | Precision: 0.9525 | Recall: 0.9521 | F1: 0.9490\n",
            "Val   -- Loss: 0.1330 | Acc: 0.9353 | Precision: 0.9408 | Recall: 0.9353 | F1: 0.9352\n",
            "Test  -- Loss: 0.3848 | Acc: 0.8913 | Precision: 0.9075 | Recall: 0.8913 | F1: 0.8931\n",
            "Time Elapsed: 0:06:59.568517, Time Remaining: 22:15:37.586747 \n",
            "\n",
            "Epoch 10/200\n"
          ]
        },
        {
          "name": "stderr",
          "output_type": "stream",
          "text": [
            "100%|██████████| 411/411 [06:14<00:00,  1.10it/s]\n",
            "100%|██████████| 46/46 [00:20<00:00,  2.27it/s]\n",
            "100%|██████████| 58/58 [00:23<00:00,  2.43it/s]\n"
          ]
        },
        {
          "name": "stdout",
          "output_type": "stream",
          "text": [
            "Train -- Loss: 0.1044 | Acc: 0.9509 | Precision: 0.9522 | Recall: 0.9509 | F1: 0.9479\n",
            "Val   -- Loss: 0.1418 | Acc: 0.9361 | Precision: 0.9391 | Recall: 0.9361 | F1: 0.9341\n",
            "Test  -- Loss: 0.3730 | Acc: 0.9002 | Precision: 0.9036 | Recall: 0.9002 | F1: 0.8958\n",
            "Time Elapsed: 0:06:58.418593, Time Remaining: 22:04:59.532670 \n",
            "\n",
            "Epoch 11/200\n"
          ]
        },
        {
          "name": "stderr",
          "output_type": "stream",
          "text": [
            "100%|██████████| 411/411 [06:14<00:00,  1.10it/s]\n",
            "100%|██████████| 46/46 [00:20<00:00,  2.26it/s]\n",
            "100%|██████████| 58/58 [00:24<00:00,  2.42it/s]\n"
          ]
        },
        {
          "name": "stdout",
          "output_type": "stream",
          "text": [
            "Train -- Loss: 0.1070 | Acc: 0.9506 | Precision: 0.9514 | Recall: 0.9506 | F1: 0.9475\n",
            "Val   -- Loss: 0.1417 | Acc: 0.9422 | Precision: 0.9399 | Recall: 0.9422 | F1: 0.9337\n",
            "Test  -- Loss: 0.3806 | Acc: 0.8962 | Precision: 0.8931 | Recall: 0.8962 | F1: 0.8881\n",
            "Time Elapsed: 0:06:58.578928, Time Remaining: 21:58:31.417392 \n",
            "\n",
            "Epoch 12/200\n"
          ]
        },
        {
          "name": "stderr",
          "output_type": "stream",
          "text": [
            "100%|██████████| 411/411 [06:16<00:00,  1.09it/s]\n",
            "100%|██████████| 46/46 [00:20<00:00,  2.23it/s]\n",
            "100%|██████████| 58/58 [00:24<00:00,  2.38it/s]\n"
          ]
        },
        {
          "name": "stdout",
          "output_type": "stream",
          "text": [
            "Train -- Loss: 0.1048 | Acc: 0.9519 | Precision: 0.9527 | Recall: 0.9519 | F1: 0.9488\n",
            "Val   -- Loss: 0.1356 | Acc: 0.9377 | Precision: 0.9362 | Recall: 0.9377 | F1: 0.9299\n",
            "Test  -- Loss: 0.4033 | Acc: 0.8953 | Precision: 0.8932 | Recall: 0.8953 | F1: 0.8876\n",
            "Time Elapsed: 0:07:01.444251, Time Remaining: 22:00:31.519188 \n",
            "\n",
            "Epoch 13/200\n"
          ]
        },
        {
          "name": "stderr",
          "output_type": "stream",
          "text": [
            "100%|██████████| 411/411 [06:16<00:00,  1.09it/s]\n",
            "100%|██████████| 46/46 [00:20<00:00,  2.24it/s]\n",
            "100%|██████████| 58/58 [00:24<00:00,  2.40it/s]\n"
          ]
        },
        {
          "name": "stdout",
          "output_type": "stream",
          "text": [
            "Train -- Loss: 0.1016 | Acc: 0.9532 | Precision: 0.9539 | Recall: 0.9532 | F1: 0.9504\n",
            "Val   -- Loss: 0.1331 | Acc: 0.9400 | Precision: 0.9376 | Recall: 0.9400 | F1: 0.9328\n",
            "Test  -- Loss: 0.3777 | Acc: 0.8994 | Precision: 0.8952 | Recall: 0.8994 | F1: 0.8900\n",
            "Time Elapsed: 0:07:00.816490, Time Remaining: 21:51:32.683630 \n",
            "\n",
            "Epoch 14/200\n"
          ]
        },
        {
          "name": "stderr",
          "output_type": "stream",
          "text": [
            "100%|██████████| 411/411 [06:15<00:00,  1.10it/s]\n",
            "100%|██████████| 46/46 [00:20<00:00,  2.26it/s]\n",
            "100%|██████████| 58/58 [00:24<00:00,  2.40it/s]\n"
          ]
        },
        {
          "name": "stdout",
          "output_type": "stream",
          "text": [
            "Train -- Loss: 0.1012 | Acc: 0.9525 | Precision: 0.9531 | Recall: 0.9525 | F1: 0.9496\n",
            "Val   -- Loss: 0.1462 | Acc: 0.9388 | Precision: 0.9362 | Recall: 0.9388 | F1: 0.9310\n",
            "Test  -- Loss: 0.4285 | Acc: 0.9010 | Precision: 0.8926 | Recall: 0.9010 | F1: 0.8888\n",
            "Time Elapsed: 0:06:59.710000, Time Remaining: 21:41:06.060000 \n",
            "\n",
            "Epoch 15/200\n"
          ]
        },
        {
          "name": "stderr",
          "output_type": "stream",
          "text": [
            "100%|██████████| 411/411 [06:15<00:00,  1.09it/s]\n",
            "100%|██████████| 46/46 [00:20<00:00,  2.29it/s]\n",
            "100%|██████████| 58/58 [00:23<00:00,  2.44it/s]\n"
          ]
        },
        {
          "name": "stdout",
          "output_type": "stream",
          "text": [
            "Train -- Loss: 0.1001 | Acc: 0.9522 | Precision: 0.9530 | Recall: 0.9522 | F1: 0.9494\n",
            "Val   -- Loss: 0.1345 | Acc: 0.9340 | Precision: 0.9365 | Recall: 0.9340 | F1: 0.9316\n",
            "Test  -- Loss: 0.4117 | Acc: 0.8931 | Precision: 0.8990 | Recall: 0.8931 | F1: 0.8891\n",
            "Time Elapsed: 0:06:59.738764, Time Remaining: 21:34:11.671340 \n",
            "\n",
            "Epoch 16/200\n"
          ]
        },
        {
          "name": "stderr",
          "output_type": "stream",
          "text": [
            "100%|██████████| 411/411 [06:12<00:00,  1.10it/s]\n",
            "100%|██████████| 46/46 [00:20<00:00,  2.29it/s]\n",
            "100%|██████████| 58/58 [00:23<00:00,  2.44it/s]\n"
          ]
        },
        {
          "name": "stdout",
          "output_type": "stream",
          "text": [
            "Train -- Loss: 0.0993 | Acc: 0.9538 | Precision: 0.9550 | Recall: 0.9538 | F1: 0.9509\n",
            "Val   -- Loss: 0.1388 | Acc: 0.9352 | Precision: 0.9370 | Recall: 0.9352 | F1: 0.9322\n",
            "Test  -- Loss: 0.4279 | Acc: 0.8991 | Precision: 0.8990 | Recall: 0.8991 | F1: 0.8919\n",
            "Time Elapsed: 0:06:56.308959, Time Remaining: 21:16:40.848456 \n",
            "\n",
            "Epoch 17/200\n"
          ]
        },
        {
          "name": "stderr",
          "output_type": "stream",
          "text": [
            "100%|██████████| 411/411 [06:12<00:00,  1.10it/s]\n",
            "100%|██████████| 46/46 [00:20<00:00,  2.28it/s]\n",
            "100%|██████████| 58/58 [00:23<00:00,  2.45it/s]\n"
          ]
        },
        {
          "name": "stdout",
          "output_type": "stream",
          "text": [
            "Train -- Loss: 0.0998 | Acc: 0.9522 | Precision: 0.9530 | Recall: 0.9522 | F1: 0.9495\n",
            "Val   -- Loss: 0.1395 | Acc: 0.9370 | Precision: 0.9339 | Recall: 0.9370 | F1: 0.9302\n",
            "Test  -- Loss: 0.4236 | Acc: 0.9053 | Precision: 0.8941 | Recall: 0.9053 | F1: 0.8915\n",
            "Time Elapsed: 0:06:56.739509, Time Remaining: 21:11:03.330147 \n",
            "\n",
            "Epoch 18/200\n"
          ]
        },
        {
          "name": "stderr",
          "output_type": "stream",
          "text": [
            "100%|██████████| 411/411 [06:12<00:00,  1.10it/s]\n",
            "100%|██████████| 46/46 [00:20<00:00,  2.28it/s]\n",
            "100%|██████████| 58/58 [00:23<00:00,  2.42it/s]\n"
          ]
        },
        {
          "name": "stdout",
          "output_type": "stream",
          "text": [
            "Train -- Loss: 0.1010 | Acc: 0.9527 | Precision: 0.9531 | Recall: 0.9527 | F1: 0.9497\n",
            "Val   -- Loss: 0.1431 | Acc: 0.9437 | Precision: 0.9414 | Recall: 0.9437 | F1: 0.9353\n",
            "Test  -- Loss: 0.4118 | Acc: 0.9016 | Precision: 0.8919 | Recall: 0.9016 | F1: 0.8875\n",
            "Time Elapsed: 0:06:57.101596, Time Remaining: 21:05:12.490472 \n",
            "\n",
            "Epoch 19/200\n"
          ]
        },
        {
          "name": "stderr",
          "output_type": "stream",
          "text": [
            " 25%|██▍       | 101/411 [01:31<04:38,  1.11it/s]"
          ]
        }
      ],
      "source": [
        "import warnings\n",
        "\n",
        "# ...\n",
        "\n",
        "# Ignore warnings\n",
        "warnings.filterwarnings(\"ignore\")\n",
        "\n",
        "# Create a folder for logs if it doesn't exist\n",
        "logs_folder = \"logs\"\n",
        "os.makedirs(logs_folder, exist_ok=True)\n",
        "\n",
        "# Generate a filename based on the current date and time\n",
        "current_time = datetime.now().strftime(\"%Y-%m-%d_%H-%M-%S\")\n",
        "log_filename = f\"{logs_folder}/training_log_{current_time}.txt\"\n",
        "\n",
        "\n",
        "\n",
        "# set the device\n",
        "device = torch.device('cuda' if torch.cuda.is_available() else 'cpu')\n",
        "\n",
        "# set the learning rate\n",
        "lr = 2e-5\n",
        "\n",
        "# set the number of epochs\n",
        "\n",
        "\n",
        "# set the optimizer\n",
        "optimizer = torch.optim.Adam(model.parameters(), lr=lr)\n",
        "\n",
        "# move the model to the device\n",
        "model.to(device)\n",
        "\n",
        "# lists to store metrics\n",
        "train_losses = []\n",
        "train_accuracies = []\n",
        "train_precisions = []\n",
        "train_recalls = []\n",
        "train_f1_scores = []\n",
        "\n",
        "val_losses = []\n",
        "val_accuracies = []\n",
        "val_precisions = []\n",
        "val_recalls = []\n",
        "val_f1_scores = []\n",
        "\n",
        "test_losses = []\n",
        "test_accuracies = []\n",
        "test_precisions = []\n",
        "test_recalls = []\n",
        "test_f1_scores = []\n",
        "\n",
        "best_val_loss = float('inf')\n",
        "best_epoch = 0\n",
        "\n",
        "# iterate over the epochs\n",
        "# Set up logging\n",
        "with open(log_filename, 'a') as log_file:\n",
        "  for epoch in range(num_epochs):\n",
        "      start_time = datetime.now()\n",
        "      print(f'Epoch {epoch + 1}/{num_epochs}')\n",
        "\n",
        "      # train the model\n",
        "      train_loss, train_acc, train_precision, train_recall, train_f1 = train(model, train_loader, optimizer, criterion, device)\n",
        "\n",
        "      # evaluate the model on the validation set\n",
        "      val_loss, val_acc, val_precision, val_recall, val_f1 = evaluate(model, val_loader, criterion, device)\n",
        "\n",
        "          # evaluate the model on the validation set\n",
        "      test_loss, test_acc, test_precision, test_recall, test_f1 = evaluate(model, test_loader, criterion, device)\n",
        "\n",
        "      # print the detailed metrics\n",
        "      print(f'Train -- Loss: {train_loss:.4f} | Acc: {train_acc:.4f} | Precision: {train_precision:.4f} | Recall: {train_recall:.4f} | F1: {train_f1:.4f}')\n",
        "      print(f'Val   -- Loss: {val_loss:.4f} | Acc: {val_acc:.4f} | Precision: {val_precision:.4f} | Recall: {val_recall:.4f} | F1: {val_f1:.4f}')\n",
        "      print(f'Test  -- Loss: {test_loss:.4f} | Acc: {test_acc:.4f} | Precision: {test_precision:.4f} | Recall: {test_recall:.4f} | F1: {test_f1:.4f}')\n",
        "\n",
        "      # log the metrics\n",
        "      log_file.write(f'Epoch {epoch + 1}/{num_epochs}\\n')\n",
        "      log_file.write(f'Train -- Loss: {train_loss:.4f} | Acc: {train_acc:.4f} | Precision: {train_precision:.4f} | Recall: {train_recall:.4f} | F1: {train_f1:.4f}\\n')\n",
        "      log_file.write(f'Val   -- Loss: {val_loss:.4f} | Acc: {val_acc:.4f} | Precision: {val_precision:.4f} | Recall: {val_recall:.4f} | F1: {val_f1:.4f}\\n')\n",
        "      log_file.write(f'Test  -- Loss: {test_loss:.4f} | Acc: {test_acc:.4f} | Precision: {test_precision:.4f} | Recall: {test_recall:.4f} | F1: {test_f1:.4f}\\n')\n",
        "      log_file.flush()\n",
        "\n",
        "      # Save the best model based on validation loss\n",
        "      if val_loss < best_val_loss:\n",
        "          best_val_loss = val_loss\n",
        "          best_epoch = epoch + 1\n",
        "          torch.save(model.state_dict(), f'best_model.pt')\n",
        "\n",
        "      # Save the metrics\n",
        "      train_accuracies.append(train_acc)\n",
        "      train_losses.append(train_loss)\n",
        "      train_precisions.append(train_precision)\n",
        "      train_recalls.append(train_recall)\n",
        "      train_f1_scores.append(train_f1)\n",
        "\n",
        "      val_losses.append(val_loss)\n",
        "      val_accuracies.append(val_acc)\n",
        "      val_precisions.append(val_precision)\n",
        "      val_recalls.append(val_recall)\n",
        "      val_f1_scores.append(val_f1)\n",
        "\n",
        "      test_losses.append(test_loss)\n",
        "      test_accuracies.append(test_acc)\n",
        "      test_precisions.append(test_precision)\n",
        "      test_recalls.append(test_recall)\n",
        "      test_f1_scores.append(test_f1)\n",
        "\n",
        "      # Calculate and print time remaining\n",
        "      elapsed_time = datetime.now() - start_time\n",
        "      remaining_time = (num_epochs - epoch - 1) * elapsed_time\n",
        "      print(f'Time Elapsed: {elapsed_time}, Time Remaining: {remaining_time} \\n')\n",
        "\n",
        "# Print the best epoch\n",
        "print(f\"Best Model: Epoch {best_epoch}, Best Validation Loss: {best_val_loss:.4f}\")\n",
        "\n",
        "print(f\"Path log file: \", log_filename)\n"
      ]
    },
    {
      "cell_type": "code",
      "execution_count": null,
      "metadata": {
        "id": "kHnZoKy7DDto"
      },
      "outputs": [],
      "source": [
        "import matplotlib.pyplot as plt\n",
        "\n",
        "def plot_metrics(train_losses, val_losses, train_accuracies, val_accuracies):\n",
        "    fig, ax = plt.subplots(1, 2, figsize=(12, 4))\n",
        "\n",
        "    # Plot the training loss curve\n",
        "    ax[0].plot(train_losses, label='Training Loss')\n",
        "    ax[0].plot(val_losses, label='Validation Loss')\n",
        "\n",
        "    ax[0].set_xlabel('Epoch')\n",
        "    ax[0].set_ylabel('Loss')\n",
        "    ax[0].set_title('Training and Validation Loss')\n",
        "    ax[0].legend()\n",
        "\n",
        "    # Plot the training accuracy curve\n",
        "    ax[1].plot(train_accuracies, label='Training Accuracy')\n",
        "    ax[1].plot(val_accuracies, label='Validation Accuracy')\n",
        "    ax[1].set_xlabel('Epoch')\n",
        "    ax[1].set_ylabel('Accuracy')\n",
        "    ax[1].set_title('Training and Validation Accuracy')\n",
        "\n",
        "    plt.show()"
      ]
    },
    {
      "cell_type": "code",
      "execution_count": null,
      "metadata": {
        "id": "OYVZbilPDF2_"
      },
      "outputs": [],
      "source": []
    },
    {
      "cell_type": "markdown",
      "metadata": {
        "id": "mp38Nrp_DGZg"
      },
      "source": [
        "# Test"
      ]
    },
    {
      "cell_type": "code",
      "execution_count": null,
      "metadata": {
        "id": "HzrF8Hx1DHPM"
      },
      "outputs": [],
      "source": [
        "input_text = test_df.sample(n=1).text.values[0]\n",
        "input_text"
      ]
    },
    {
      "cell_type": "code",
      "execution_count": null,
      "metadata": {
        "id": "8QH____ADL7I"
      },
      "outputs": [],
      "source": [
        "encoded_input = tokenizer.encode_plus(\n",
        "    input_text,\n",
        "    add_special_tokens=True,\n",
        "    truncation=True,\n",
        "    max_length= max_len,\n",
        "    return_token_type_ids=False,\n",
        "    padding='max_length',\n",
        "    return_attention_mask=True,\n",
        "    return_tensors='pt',\n",
        ").to(device)\n"
      ]
    },
    {
      "cell_type": "code",
      "execution_count": null,
      "metadata": {
        "id": "mA02RZqUDOd9"
      },
      "outputs": [],
      "source": [
        "pair_id = torch.argmax(model(**encoded_input), dim=1).item()\n",
        "le.inverse_transform([pair_id])\n",
        "plot_metrics(train_losses, val_losses, train_accuracies, val_accuracies)"
      ]
    },
    {
      "cell_type": "code",
      "execution_count": null,
      "metadata": {
        "id": "5DVumxVdDP8N"
      },
      "outputs": [],
      "source": []
    }
  ],
  "metadata": {
    "accelerator": "GPU",
    "colab": {
      "gpuType": "V100",
      "machine_shape": "hm",
      "provenance": []
    },
    "kernelspec": {
      "display_name": "Python 3",
      "name": "python3"
    },
    "language_info": {
      "codemirror_mode": {
        "name": "ipython",
        "version": 3
      },
      "file_extension": ".py",
      "mimetype": "text/x-python",
      "name": "python",
      "nbconvert_exporter": "python",
      "pygments_lexer": "ipython3",
      "version": "3.11.8"
    },
    "widgets": {
      "application/vnd.jupyter.widget-state+json": {
        "0200fa9fb3604925a21958df7c19fd3a": {
          "model_module": "@jupyter-widgets/controls",
          "model_module_version": "1.5.0",
          "model_name": "DescriptionStyleModel",
          "state": {
            "_model_module": "@jupyter-widgets/controls",
            "_model_module_version": "1.5.0",
            "_model_name": "DescriptionStyleModel",
            "_view_count": null,
            "_view_module": "@jupyter-widgets/base",
            "_view_module_version": "1.2.0",
            "_view_name": "StyleView",
            "description_width": ""
          }
        },
        "03de369210a347febe330693d5bc89e7": {
          "model_module": "@jupyter-widgets/controls",
          "model_module_version": "1.5.0",
          "model_name": "HTMLModel",
          "state": {
            "_dom_classes": [],
            "_model_module": "@jupyter-widgets/controls",
            "_model_module_version": "1.5.0",
            "_model_name": "HTMLModel",
            "_view_count": null,
            "_view_module": "@jupyter-widgets/controls",
            "_view_module_version": "1.5.0",
            "_view_name": "HTMLView",
            "description": "",
            "description_tooltip": null,
            "layout": "IPY_MODEL_e49b7919ec804fd1a8c6d322715c21af",
            "placeholder": "​",
            "style": "IPY_MODEL_6f8710eafa81440d900c0d0728f3a356",
            "value": "config.json: 100%"
          }
        },
        "083b967b8ecf451296c6e9a19e5ff494": {
          "model_module": "@jupyter-widgets/base",
          "model_module_version": "1.2.0",
          "model_name": "LayoutModel",
          "state": {
            "_model_module": "@jupyter-widgets/base",
            "_model_module_version": "1.2.0",
            "_model_name": "LayoutModel",
            "_view_count": null,
            "_view_module": "@jupyter-widgets/base",
            "_view_module_version": "1.2.0",
            "_view_name": "LayoutView",
            "align_content": null,
            "align_items": null,
            "align_self": null,
            "border": null,
            "bottom": null,
            "display": null,
            "flex": null,
            "flex_flow": null,
            "grid_area": null,
            "grid_auto_columns": null,
            "grid_auto_flow": null,
            "grid_auto_rows": null,
            "grid_column": null,
            "grid_gap": null,
            "grid_row": null,
            "grid_template_areas": null,
            "grid_template_columns": null,
            "grid_template_rows": null,
            "height": null,
            "justify_content": null,
            "justify_items": null,
            "left": null,
            "margin": null,
            "max_height": null,
            "max_width": null,
            "min_height": null,
            "min_width": null,
            "object_fit": null,
            "object_position": null,
            "order": null,
            "overflow": null,
            "overflow_x": null,
            "overflow_y": null,
            "padding": null,
            "right": null,
            "top": null,
            "visibility": null,
            "width": null
          }
        },
        "0b126448808d4510b3e711f506eb1146": {
          "model_module": "@jupyter-widgets/controls",
          "model_module_version": "1.5.0",
          "model_name": "HTMLModel",
          "state": {
            "_dom_classes": [],
            "_model_module": "@jupyter-widgets/controls",
            "_model_module_version": "1.5.0",
            "_model_name": "HTMLModel",
            "_view_count": null,
            "_view_module": "@jupyter-widgets/controls",
            "_view_module_version": "1.5.0",
            "_view_name": "HTMLView",
            "description": "",
            "description_tooltip": null,
            "layout": "IPY_MODEL_6ac4097742ff4cc6a5acc0f804f8bd0a",
            "placeholder": "​",
            "style": "IPY_MODEL_9624176808c14340b64bdc168f0a58d7",
            "value": " 570/570 [00:00&lt;00:00, 47.3kB/s]"
          }
        },
        "11b0e2fda9fb42739c20676d7807d3b2": {
          "model_module": "@jupyter-widgets/controls",
          "model_module_version": "1.5.0",
          "model_name": "HTMLModel",
          "state": {
            "_dom_classes": [],
            "_model_module": "@jupyter-widgets/controls",
            "_model_module_version": "1.5.0",
            "_model_name": "HTMLModel",
            "_view_count": null,
            "_view_module": "@jupyter-widgets/controls",
            "_view_module_version": "1.5.0",
            "_view_name": "HTMLView",
            "description": "",
            "description_tooltip": null,
            "layout": "IPY_MODEL_84680bcff990448d83e14786a93d6ced",
            "placeholder": "​",
            "style": "IPY_MODEL_0200fa9fb3604925a21958df7c19fd3a",
            "value": " 466k/466k [00:00&lt;00:00, 7.57MB/s]"
          }
        },
        "1420c43e859844acac8dc9be9002ea1a": {
          "model_module": "@jupyter-widgets/controls",
          "model_module_version": "1.5.0",
          "model_name": "FloatProgressModel",
          "state": {
            "_dom_classes": [],
            "_model_module": "@jupyter-widgets/controls",
            "_model_module_version": "1.5.0",
            "_model_name": "FloatProgressModel",
            "_view_count": null,
            "_view_module": "@jupyter-widgets/controls",
            "_view_module_version": "1.5.0",
            "_view_name": "ProgressView",
            "bar_style": "success",
            "description": "",
            "description_tooltip": null,
            "layout": "IPY_MODEL_a09360ac568b4947908f4bbed368aaf8",
            "max": 570,
            "min": 0,
            "orientation": "horizontal",
            "style": "IPY_MODEL_e3b0a521b17c4fca82293b797a036ab5",
            "value": 570
          }
        },
        "1906b938b35a4c04991371329cf53f8b": {
          "model_module": "@jupyter-widgets/controls",
          "model_module_version": "1.5.0",
          "model_name": "HTMLModel",
          "state": {
            "_dom_classes": [],
            "_model_module": "@jupyter-widgets/controls",
            "_model_module_version": "1.5.0",
            "_model_name": "HTMLModel",
            "_view_count": null,
            "_view_module": "@jupyter-widgets/controls",
            "_view_module_version": "1.5.0",
            "_view_name": "HTMLView",
            "description": "",
            "description_tooltip": null,
            "layout": "IPY_MODEL_3ea712a449a34cefa93c5af8b53e0aaa",
            "placeholder": "​",
            "style": "IPY_MODEL_b8328076bfb44c2e904f1324f2a68256",
            "value": " 232k/232k [00:00&lt;00:00, 3.19MB/s]"
          }
        },
        "211ca2685b114bc48c78ed0bc0d67eca": {
          "model_module": "@jupyter-widgets/controls",
          "model_module_version": "1.5.0",
          "model_name": "DescriptionStyleModel",
          "state": {
            "_model_module": "@jupyter-widgets/controls",
            "_model_module_version": "1.5.0",
            "_model_name": "DescriptionStyleModel",
            "_view_count": null,
            "_view_module": "@jupyter-widgets/base",
            "_view_module_version": "1.2.0",
            "_view_name": "StyleView",
            "description_width": ""
          }
        },
        "24ce690ba0fd4c8bb38165739ffa57db": {
          "model_module": "@jupyter-widgets/controls",
          "model_module_version": "1.5.0",
          "model_name": "HBoxModel",
          "state": {
            "_dom_classes": [],
            "_model_module": "@jupyter-widgets/controls",
            "_model_module_version": "1.5.0",
            "_model_name": "HBoxModel",
            "_view_count": null,
            "_view_module": "@jupyter-widgets/controls",
            "_view_module_version": "1.5.0",
            "_view_name": "HBoxView",
            "box_style": "",
            "children": [
              "IPY_MODEL_a8232918bbbb4b018152f601cb4673d4",
              "IPY_MODEL_91e4452740a74386a4c6d6199d47519c",
              "IPY_MODEL_11b0e2fda9fb42739c20676d7807d3b2"
            ],
            "layout": "IPY_MODEL_eaf77425e20340ef8c95848befff2644"
          }
        },
        "288103d1b38a452198c6e6d86abc59da": {
          "model_module": "@jupyter-widgets/base",
          "model_module_version": "1.2.0",
          "model_name": "LayoutModel",
          "state": {
            "_model_module": "@jupyter-widgets/base",
            "_model_module_version": "1.2.0",
            "_model_name": "LayoutModel",
            "_view_count": null,
            "_view_module": "@jupyter-widgets/base",
            "_view_module_version": "1.2.0",
            "_view_name": "LayoutView",
            "align_content": null,
            "align_items": null,
            "align_self": null,
            "border": null,
            "bottom": null,
            "display": null,
            "flex": null,
            "flex_flow": null,
            "grid_area": null,
            "grid_auto_columns": null,
            "grid_auto_flow": null,
            "grid_auto_rows": null,
            "grid_column": null,
            "grid_gap": null,
            "grid_row": null,
            "grid_template_areas": null,
            "grid_template_columns": null,
            "grid_template_rows": null,
            "height": null,
            "justify_content": null,
            "justify_items": null,
            "left": null,
            "margin": null,
            "max_height": null,
            "max_width": null,
            "min_height": null,
            "min_width": null,
            "object_fit": null,
            "object_position": null,
            "order": null,
            "overflow": null,
            "overflow_x": null,
            "overflow_y": null,
            "padding": null,
            "right": null,
            "top": null,
            "visibility": null,
            "width": null
          }
        },
        "2df444adb0c142f8a3665fa49b0f7a0b": {
          "model_module": "@jupyter-widgets/base",
          "model_module_version": "1.2.0",
          "model_name": "LayoutModel",
          "state": {
            "_model_module": "@jupyter-widgets/base",
            "_model_module_version": "1.2.0",
            "_model_name": "LayoutModel",
            "_view_count": null,
            "_view_module": "@jupyter-widgets/base",
            "_view_module_version": "1.2.0",
            "_view_name": "LayoutView",
            "align_content": null,
            "align_items": null,
            "align_self": null,
            "border": null,
            "bottom": null,
            "display": null,
            "flex": null,
            "flex_flow": null,
            "grid_area": null,
            "grid_auto_columns": null,
            "grid_auto_flow": null,
            "grid_auto_rows": null,
            "grid_column": null,
            "grid_gap": null,
            "grid_row": null,
            "grid_template_areas": null,
            "grid_template_columns": null,
            "grid_template_rows": null,
            "height": null,
            "justify_content": null,
            "justify_items": null,
            "left": null,
            "margin": null,
            "max_height": null,
            "max_width": null,
            "min_height": null,
            "min_width": null,
            "object_fit": null,
            "object_position": null,
            "order": null,
            "overflow": null,
            "overflow_x": null,
            "overflow_y": null,
            "padding": null,
            "right": null,
            "top": null,
            "visibility": null,
            "width": null
          }
        },
        "3137f78defd244bf8af8cf2640efc49a": {
          "model_module": "@jupyter-widgets/controls",
          "model_module_version": "1.5.0",
          "model_name": "DescriptionStyleModel",
          "state": {
            "_model_module": "@jupyter-widgets/controls",
            "_model_module_version": "1.5.0",
            "_model_name": "DescriptionStyleModel",
            "_view_count": null,
            "_view_module": "@jupyter-widgets/base",
            "_view_module_version": "1.2.0",
            "_view_name": "StyleView",
            "description_width": ""
          }
        },
        "3c5196562caf47828deada4315a5697c": {
          "model_module": "@jupyter-widgets/base",
          "model_module_version": "1.2.0",
          "model_name": "LayoutModel",
          "state": {
            "_model_module": "@jupyter-widgets/base",
            "_model_module_version": "1.2.0",
            "_model_name": "LayoutModel",
            "_view_count": null,
            "_view_module": "@jupyter-widgets/base",
            "_view_module_version": "1.2.0",
            "_view_name": "LayoutView",
            "align_content": null,
            "align_items": null,
            "align_self": null,
            "border": null,
            "bottom": null,
            "display": null,
            "flex": null,
            "flex_flow": null,
            "grid_area": null,
            "grid_auto_columns": null,
            "grid_auto_flow": null,
            "grid_auto_rows": null,
            "grid_column": null,
            "grid_gap": null,
            "grid_row": null,
            "grid_template_areas": null,
            "grid_template_columns": null,
            "grid_template_rows": null,
            "height": null,
            "justify_content": null,
            "justify_items": null,
            "left": null,
            "margin": null,
            "max_height": null,
            "max_width": null,
            "min_height": null,
            "min_width": null,
            "object_fit": null,
            "object_position": null,
            "order": null,
            "overflow": null,
            "overflow_x": null,
            "overflow_y": null,
            "padding": null,
            "right": null,
            "top": null,
            "visibility": null,
            "width": null
          }
        },
        "3ea712a449a34cefa93c5af8b53e0aaa": {
          "model_module": "@jupyter-widgets/base",
          "model_module_version": "1.2.0",
          "model_name": "LayoutModel",
          "state": {
            "_model_module": "@jupyter-widgets/base",
            "_model_module_version": "1.2.0",
            "_model_name": "LayoutModel",
            "_view_count": null,
            "_view_module": "@jupyter-widgets/base",
            "_view_module_version": "1.2.0",
            "_view_name": "LayoutView",
            "align_content": null,
            "align_items": null,
            "align_self": null,
            "border": null,
            "bottom": null,
            "display": null,
            "flex": null,
            "flex_flow": null,
            "grid_area": null,
            "grid_auto_columns": null,
            "grid_auto_flow": null,
            "grid_auto_rows": null,
            "grid_column": null,
            "grid_gap": null,
            "grid_row": null,
            "grid_template_areas": null,
            "grid_template_columns": null,
            "grid_template_rows": null,
            "height": null,
            "justify_content": null,
            "justify_items": null,
            "left": null,
            "margin": null,
            "max_height": null,
            "max_width": null,
            "min_height": null,
            "min_width": null,
            "object_fit": null,
            "object_position": null,
            "order": null,
            "overflow": null,
            "overflow_x": null,
            "overflow_y": null,
            "padding": null,
            "right": null,
            "top": null,
            "visibility": null,
            "width": null
          }
        },
        "3f37baf1624b42209ee601598e1f1aa9": {
          "model_module": "@jupyter-widgets/base",
          "model_module_version": "1.2.0",
          "model_name": "LayoutModel",
          "state": {
            "_model_module": "@jupyter-widgets/base",
            "_model_module_version": "1.2.0",
            "_model_name": "LayoutModel",
            "_view_count": null,
            "_view_module": "@jupyter-widgets/base",
            "_view_module_version": "1.2.0",
            "_view_name": "LayoutView",
            "align_content": null,
            "align_items": null,
            "align_self": null,
            "border": null,
            "bottom": null,
            "display": null,
            "flex": null,
            "flex_flow": null,
            "grid_area": null,
            "grid_auto_columns": null,
            "grid_auto_flow": null,
            "grid_auto_rows": null,
            "grid_column": null,
            "grid_gap": null,
            "grid_row": null,
            "grid_template_areas": null,
            "grid_template_columns": null,
            "grid_template_rows": null,
            "height": null,
            "justify_content": null,
            "justify_items": null,
            "left": null,
            "margin": null,
            "max_height": null,
            "max_width": null,
            "min_height": null,
            "min_width": null,
            "object_fit": null,
            "object_position": null,
            "order": null,
            "overflow": null,
            "overflow_x": null,
            "overflow_y": null,
            "padding": null,
            "right": null,
            "top": null,
            "visibility": null,
            "width": null
          }
        },
        "43dd470cdce941b6bf4f2a165c3394d5": {
          "model_module": "@jupyter-widgets/base",
          "model_module_version": "1.2.0",
          "model_name": "LayoutModel",
          "state": {
            "_model_module": "@jupyter-widgets/base",
            "_model_module_version": "1.2.0",
            "_model_name": "LayoutModel",
            "_view_count": null,
            "_view_module": "@jupyter-widgets/base",
            "_view_module_version": "1.2.0",
            "_view_name": "LayoutView",
            "align_content": null,
            "align_items": null,
            "align_self": null,
            "border": null,
            "bottom": null,
            "display": null,
            "flex": null,
            "flex_flow": null,
            "grid_area": null,
            "grid_auto_columns": null,
            "grid_auto_flow": null,
            "grid_auto_rows": null,
            "grid_column": null,
            "grid_gap": null,
            "grid_row": null,
            "grid_template_areas": null,
            "grid_template_columns": null,
            "grid_template_rows": null,
            "height": null,
            "justify_content": null,
            "justify_items": null,
            "left": null,
            "margin": null,
            "max_height": null,
            "max_width": null,
            "min_height": null,
            "min_width": null,
            "object_fit": null,
            "object_position": null,
            "order": null,
            "overflow": null,
            "overflow_x": null,
            "overflow_y": null,
            "padding": null,
            "right": null,
            "top": null,
            "visibility": null,
            "width": null
          }
        },
        "48b07d194a6742ee88174138853dcc0c": {
          "model_module": "@jupyter-widgets/controls",
          "model_module_version": "1.5.0",
          "model_name": "ProgressStyleModel",
          "state": {
            "_model_module": "@jupyter-widgets/controls",
            "_model_module_version": "1.5.0",
            "_model_name": "ProgressStyleModel",
            "_view_count": null,
            "_view_module": "@jupyter-widgets/base",
            "_view_module_version": "1.2.0",
            "_view_name": "StyleView",
            "bar_color": null,
            "description_width": ""
          }
        },
        "48d91bcafcd049609f976f69a87bc387": {
          "model_module": "@jupyter-widgets/base",
          "model_module_version": "1.2.0",
          "model_name": "LayoutModel",
          "state": {
            "_model_module": "@jupyter-widgets/base",
            "_model_module_version": "1.2.0",
            "_model_name": "LayoutModel",
            "_view_count": null,
            "_view_module": "@jupyter-widgets/base",
            "_view_module_version": "1.2.0",
            "_view_name": "LayoutView",
            "align_content": null,
            "align_items": null,
            "align_self": null,
            "border": null,
            "bottom": null,
            "display": null,
            "flex": null,
            "flex_flow": null,
            "grid_area": null,
            "grid_auto_columns": null,
            "grid_auto_flow": null,
            "grid_auto_rows": null,
            "grid_column": null,
            "grid_gap": null,
            "grid_row": null,
            "grid_template_areas": null,
            "grid_template_columns": null,
            "grid_template_rows": null,
            "height": null,
            "justify_content": null,
            "justify_items": null,
            "left": null,
            "margin": null,
            "max_height": null,
            "max_width": null,
            "min_height": null,
            "min_width": null,
            "object_fit": null,
            "object_position": null,
            "order": null,
            "overflow": null,
            "overflow_x": null,
            "overflow_y": null,
            "padding": null,
            "right": null,
            "top": null,
            "visibility": null,
            "width": null
          }
        },
        "498b948d8d964b278bf7b03ba669ce8d": {
          "model_module": "@jupyter-widgets/controls",
          "model_module_version": "1.5.0",
          "model_name": "HBoxModel",
          "state": {
            "_dom_classes": [],
            "_model_module": "@jupyter-widgets/controls",
            "_model_module_version": "1.5.0",
            "_model_name": "HBoxModel",
            "_view_count": null,
            "_view_module": "@jupyter-widgets/controls",
            "_view_module_version": "1.5.0",
            "_view_name": "HBoxView",
            "box_style": "",
            "children": [
              "IPY_MODEL_03de369210a347febe330693d5bc89e7",
              "IPY_MODEL_1420c43e859844acac8dc9be9002ea1a",
              "IPY_MODEL_0b126448808d4510b3e711f506eb1146"
            ],
            "layout": "IPY_MODEL_ee6203adc0534bccb85752830ec10393"
          }
        },
        "5a2bdffd0776439bb9093237a2a9da0e": {
          "model_module": "@jupyter-widgets/controls",
          "model_module_version": "1.5.0",
          "model_name": "ProgressStyleModel",
          "state": {
            "_model_module": "@jupyter-widgets/controls",
            "_model_module_version": "1.5.0",
            "_model_name": "ProgressStyleModel",
            "_view_count": null,
            "_view_module": "@jupyter-widgets/base",
            "_view_module_version": "1.2.0",
            "_view_name": "StyleView",
            "bar_color": null,
            "description_width": ""
          }
        },
        "5a352c8db0974970b1fbb9dcc91ea0c6": {
          "model_module": "@jupyter-widgets/base",
          "model_module_version": "1.2.0",
          "model_name": "LayoutModel",
          "state": {
            "_model_module": "@jupyter-widgets/base",
            "_model_module_version": "1.2.0",
            "_model_name": "LayoutModel",
            "_view_count": null,
            "_view_module": "@jupyter-widgets/base",
            "_view_module_version": "1.2.0",
            "_view_name": "LayoutView",
            "align_content": null,
            "align_items": null,
            "align_self": null,
            "border": null,
            "bottom": null,
            "display": null,
            "flex": null,
            "flex_flow": null,
            "grid_area": null,
            "grid_auto_columns": null,
            "grid_auto_flow": null,
            "grid_auto_rows": null,
            "grid_column": null,
            "grid_gap": null,
            "grid_row": null,
            "grid_template_areas": null,
            "grid_template_columns": null,
            "grid_template_rows": null,
            "height": null,
            "justify_content": null,
            "justify_items": null,
            "left": null,
            "margin": null,
            "max_height": null,
            "max_width": null,
            "min_height": null,
            "min_width": null,
            "object_fit": null,
            "object_position": null,
            "order": null,
            "overflow": null,
            "overflow_x": null,
            "overflow_y": null,
            "padding": null,
            "right": null,
            "top": null,
            "visibility": null,
            "width": null
          }
        },
        "5e8ec6a33cb94481a14335637eb041f0": {
          "model_module": "@jupyter-widgets/controls",
          "model_module_version": "1.5.0",
          "model_name": "DescriptionStyleModel",
          "state": {
            "_model_module": "@jupyter-widgets/controls",
            "_model_module_version": "1.5.0",
            "_model_name": "DescriptionStyleModel",
            "_view_count": null,
            "_view_module": "@jupyter-widgets/base",
            "_view_module_version": "1.2.0",
            "_view_name": "StyleView",
            "description_width": ""
          }
        },
        "60ff803316e24cfaaadf1aed4aa13cbe": {
          "model_module": "@jupyter-widgets/controls",
          "model_module_version": "1.5.0",
          "model_name": "ProgressStyleModel",
          "state": {
            "_model_module": "@jupyter-widgets/controls",
            "_model_module_version": "1.5.0",
            "_model_name": "ProgressStyleModel",
            "_view_count": null,
            "_view_module": "@jupyter-widgets/base",
            "_view_module_version": "1.2.0",
            "_view_name": "StyleView",
            "bar_color": null,
            "description_width": ""
          }
        },
        "64055a077711457bb60ba78c665ed263": {
          "model_module": "@jupyter-widgets/controls",
          "model_module_version": "1.5.0",
          "model_name": "HTMLModel",
          "state": {
            "_dom_classes": [],
            "_model_module": "@jupyter-widgets/controls",
            "_model_module_version": "1.5.0",
            "_model_name": "HTMLModel",
            "_view_count": null,
            "_view_module": "@jupyter-widgets/controls",
            "_view_module_version": "1.5.0",
            "_view_name": "HTMLView",
            "description": "",
            "description_tooltip": null,
            "layout": "IPY_MODEL_2df444adb0c142f8a3665fa49b0f7a0b",
            "placeholder": "​",
            "style": "IPY_MODEL_3137f78defd244bf8af8cf2640efc49a",
            "value": " 28.0/28.0 [00:00&lt;00:00, 2.10kB/s]"
          }
        },
        "67a3ba284469434394b10f7a71b024ce": {
          "model_module": "@jupyter-widgets/controls",
          "model_module_version": "1.5.0",
          "model_name": "FloatProgressModel",
          "state": {
            "_dom_classes": [],
            "_model_module": "@jupyter-widgets/controls",
            "_model_module_version": "1.5.0",
            "_model_name": "FloatProgressModel",
            "_view_count": null,
            "_view_module": "@jupyter-widgets/controls",
            "_view_module_version": "1.5.0",
            "_view_name": "ProgressView",
            "bar_style": "success",
            "description": "",
            "description_tooltip": null,
            "layout": "IPY_MODEL_8c3cf7fb11e948f99c51e02d778b98bb",
            "max": 28,
            "min": 0,
            "orientation": "horizontal",
            "style": "IPY_MODEL_701c5da686174b82ac181bad134981d5",
            "value": 28
          }
        },
        "684798351a99486980fefc7df00a2b4f": {
          "model_module": "@jupyter-widgets/controls",
          "model_module_version": "1.5.0",
          "model_name": "HBoxModel",
          "state": {
            "_dom_classes": [],
            "_model_module": "@jupyter-widgets/controls",
            "_model_module_version": "1.5.0",
            "_model_name": "HBoxModel",
            "_view_count": null,
            "_view_module": "@jupyter-widgets/controls",
            "_view_module_version": "1.5.0",
            "_view_name": "HBoxView",
            "box_style": "",
            "children": [
              "IPY_MODEL_fd22d461222e4899b8724218ba8063d8",
              "IPY_MODEL_f10ee4a030864bf296cd48b8632798cc",
              "IPY_MODEL_1906b938b35a4c04991371329cf53f8b"
            ],
            "layout": "IPY_MODEL_bb762a2d06764285a34cf19b7c7575cd"
          }
        },
        "6ac4097742ff4cc6a5acc0f804f8bd0a": {
          "model_module": "@jupyter-widgets/base",
          "model_module_version": "1.2.0",
          "model_name": "LayoutModel",
          "state": {
            "_model_module": "@jupyter-widgets/base",
            "_model_module_version": "1.2.0",
            "_model_name": "LayoutModel",
            "_view_count": null,
            "_view_module": "@jupyter-widgets/base",
            "_view_module_version": "1.2.0",
            "_view_name": "LayoutView",
            "align_content": null,
            "align_items": null,
            "align_self": null,
            "border": null,
            "bottom": null,
            "display": null,
            "flex": null,
            "flex_flow": null,
            "grid_area": null,
            "grid_auto_columns": null,
            "grid_auto_flow": null,
            "grid_auto_rows": null,
            "grid_column": null,
            "grid_gap": null,
            "grid_row": null,
            "grid_template_areas": null,
            "grid_template_columns": null,
            "grid_template_rows": null,
            "height": null,
            "justify_content": null,
            "justify_items": null,
            "left": null,
            "margin": null,
            "max_height": null,
            "max_width": null,
            "min_height": null,
            "min_width": null,
            "object_fit": null,
            "object_position": null,
            "order": null,
            "overflow": null,
            "overflow_x": null,
            "overflow_y": null,
            "padding": null,
            "right": null,
            "top": null,
            "visibility": null,
            "width": null
          }
        },
        "6f8710eafa81440d900c0d0728f3a356": {
          "model_module": "@jupyter-widgets/controls",
          "model_module_version": "1.5.0",
          "model_name": "DescriptionStyleModel",
          "state": {
            "_model_module": "@jupyter-widgets/controls",
            "_model_module_version": "1.5.0",
            "_model_name": "DescriptionStyleModel",
            "_view_count": null,
            "_view_module": "@jupyter-widgets/base",
            "_view_module_version": "1.2.0",
            "_view_name": "StyleView",
            "description_width": ""
          }
        },
        "701c5da686174b82ac181bad134981d5": {
          "model_module": "@jupyter-widgets/controls",
          "model_module_version": "1.5.0",
          "model_name": "ProgressStyleModel",
          "state": {
            "_model_module": "@jupyter-widgets/controls",
            "_model_module_version": "1.5.0",
            "_model_name": "ProgressStyleModel",
            "_view_count": null,
            "_view_module": "@jupyter-widgets/base",
            "_view_module_version": "1.2.0",
            "_view_name": "StyleView",
            "bar_color": null,
            "description_width": ""
          }
        },
        "786baaeb9fb142f2873170315bc4c7d7": {
          "model_module": "@jupyter-widgets/controls",
          "model_module_version": "1.5.0",
          "model_name": "DescriptionStyleModel",
          "state": {
            "_model_module": "@jupyter-widgets/controls",
            "_model_module_version": "1.5.0",
            "_model_name": "DescriptionStyleModel",
            "_view_count": null,
            "_view_module": "@jupyter-widgets/base",
            "_view_module_version": "1.2.0",
            "_view_name": "StyleView",
            "description_width": ""
          }
        },
        "84680bcff990448d83e14786a93d6ced": {
          "model_module": "@jupyter-widgets/base",
          "model_module_version": "1.2.0",
          "model_name": "LayoutModel",
          "state": {
            "_model_module": "@jupyter-widgets/base",
            "_model_module_version": "1.2.0",
            "_model_name": "LayoutModel",
            "_view_count": null,
            "_view_module": "@jupyter-widgets/base",
            "_view_module_version": "1.2.0",
            "_view_name": "LayoutView",
            "align_content": null,
            "align_items": null,
            "align_self": null,
            "border": null,
            "bottom": null,
            "display": null,
            "flex": null,
            "flex_flow": null,
            "grid_area": null,
            "grid_auto_columns": null,
            "grid_auto_flow": null,
            "grid_auto_rows": null,
            "grid_column": null,
            "grid_gap": null,
            "grid_row": null,
            "grid_template_areas": null,
            "grid_template_columns": null,
            "grid_template_rows": null,
            "height": null,
            "justify_content": null,
            "justify_items": null,
            "left": null,
            "margin": null,
            "max_height": null,
            "max_width": null,
            "min_height": null,
            "min_width": null,
            "object_fit": null,
            "object_position": null,
            "order": null,
            "overflow": null,
            "overflow_x": null,
            "overflow_y": null,
            "padding": null,
            "right": null,
            "top": null,
            "visibility": null,
            "width": null
          }
        },
        "8c3cf7fb11e948f99c51e02d778b98bb": {
          "model_module": "@jupyter-widgets/base",
          "model_module_version": "1.2.0",
          "model_name": "LayoutModel",
          "state": {
            "_model_module": "@jupyter-widgets/base",
            "_model_module_version": "1.2.0",
            "_model_name": "LayoutModel",
            "_view_count": null,
            "_view_module": "@jupyter-widgets/base",
            "_view_module_version": "1.2.0",
            "_view_name": "LayoutView",
            "align_content": null,
            "align_items": null,
            "align_self": null,
            "border": null,
            "bottom": null,
            "display": null,
            "flex": null,
            "flex_flow": null,
            "grid_area": null,
            "grid_auto_columns": null,
            "grid_auto_flow": null,
            "grid_auto_rows": null,
            "grid_column": null,
            "grid_gap": null,
            "grid_row": null,
            "grid_template_areas": null,
            "grid_template_columns": null,
            "grid_template_rows": null,
            "height": null,
            "justify_content": null,
            "justify_items": null,
            "left": null,
            "margin": null,
            "max_height": null,
            "max_width": null,
            "min_height": null,
            "min_width": null,
            "object_fit": null,
            "object_position": null,
            "order": null,
            "overflow": null,
            "overflow_x": null,
            "overflow_y": null,
            "padding": null,
            "right": null,
            "top": null,
            "visibility": null,
            "width": null
          }
        },
        "8f7198e20cd14063b915e8f643a8bd32": {
          "model_module": "@jupyter-widgets/base",
          "model_module_version": "1.2.0",
          "model_name": "LayoutModel",
          "state": {
            "_model_module": "@jupyter-widgets/base",
            "_model_module_version": "1.2.0",
            "_model_name": "LayoutModel",
            "_view_count": null,
            "_view_module": "@jupyter-widgets/base",
            "_view_module_version": "1.2.0",
            "_view_name": "LayoutView",
            "align_content": null,
            "align_items": null,
            "align_self": null,
            "border": null,
            "bottom": null,
            "display": null,
            "flex": null,
            "flex_flow": null,
            "grid_area": null,
            "grid_auto_columns": null,
            "grid_auto_flow": null,
            "grid_auto_rows": null,
            "grid_column": null,
            "grid_gap": null,
            "grid_row": null,
            "grid_template_areas": null,
            "grid_template_columns": null,
            "grid_template_rows": null,
            "height": null,
            "justify_content": null,
            "justify_items": null,
            "left": null,
            "margin": null,
            "max_height": null,
            "max_width": null,
            "min_height": null,
            "min_width": null,
            "object_fit": null,
            "object_position": null,
            "order": null,
            "overflow": null,
            "overflow_x": null,
            "overflow_y": null,
            "padding": null,
            "right": null,
            "top": null,
            "visibility": null,
            "width": null
          }
        },
        "91e4452740a74386a4c6d6199d47519c": {
          "model_module": "@jupyter-widgets/controls",
          "model_module_version": "1.5.0",
          "model_name": "FloatProgressModel",
          "state": {
            "_dom_classes": [],
            "_model_module": "@jupyter-widgets/controls",
            "_model_module_version": "1.5.0",
            "_model_name": "FloatProgressModel",
            "_view_count": null,
            "_view_module": "@jupyter-widgets/controls",
            "_view_module_version": "1.5.0",
            "_view_name": "ProgressView",
            "bar_style": "success",
            "description": "",
            "description_tooltip": null,
            "layout": "IPY_MODEL_288103d1b38a452198c6e6d86abc59da",
            "max": 466062,
            "min": 0,
            "orientation": "horizontal",
            "style": "IPY_MODEL_48b07d194a6742ee88174138853dcc0c",
            "value": 466062
          }
        },
        "9624176808c14340b64bdc168f0a58d7": {
          "model_module": "@jupyter-widgets/controls",
          "model_module_version": "1.5.0",
          "model_name": "DescriptionStyleModel",
          "state": {
            "_model_module": "@jupyter-widgets/controls",
            "_model_module_version": "1.5.0",
            "_model_name": "DescriptionStyleModel",
            "_view_count": null,
            "_view_module": "@jupyter-widgets/base",
            "_view_module_version": "1.2.0",
            "_view_name": "StyleView",
            "description_width": ""
          }
        },
        "9a1bcb255506421a9361a854a76e56a8": {
          "model_module": "@jupyter-widgets/base",
          "model_module_version": "1.2.0",
          "model_name": "LayoutModel",
          "state": {
            "_model_module": "@jupyter-widgets/base",
            "_model_module_version": "1.2.0",
            "_model_name": "LayoutModel",
            "_view_count": null,
            "_view_module": "@jupyter-widgets/base",
            "_view_module_version": "1.2.0",
            "_view_name": "LayoutView",
            "align_content": null,
            "align_items": null,
            "align_self": null,
            "border": null,
            "bottom": null,
            "display": null,
            "flex": null,
            "flex_flow": null,
            "grid_area": null,
            "grid_auto_columns": null,
            "grid_auto_flow": null,
            "grid_auto_rows": null,
            "grid_column": null,
            "grid_gap": null,
            "grid_row": null,
            "grid_template_areas": null,
            "grid_template_columns": null,
            "grid_template_rows": null,
            "height": null,
            "justify_content": null,
            "justify_items": null,
            "left": null,
            "margin": null,
            "max_height": null,
            "max_width": null,
            "min_height": null,
            "min_width": null,
            "object_fit": null,
            "object_position": null,
            "order": null,
            "overflow": null,
            "overflow_x": null,
            "overflow_y": null,
            "padding": null,
            "right": null,
            "top": null,
            "visibility": null,
            "width": null
          }
        },
        "a09360ac568b4947908f4bbed368aaf8": {
          "model_module": "@jupyter-widgets/base",
          "model_module_version": "1.2.0",
          "model_name": "LayoutModel",
          "state": {
            "_model_module": "@jupyter-widgets/base",
            "_model_module_version": "1.2.0",
            "_model_name": "LayoutModel",
            "_view_count": null,
            "_view_module": "@jupyter-widgets/base",
            "_view_module_version": "1.2.0",
            "_view_name": "LayoutView",
            "align_content": null,
            "align_items": null,
            "align_self": null,
            "border": null,
            "bottom": null,
            "display": null,
            "flex": null,
            "flex_flow": null,
            "grid_area": null,
            "grid_auto_columns": null,
            "grid_auto_flow": null,
            "grid_auto_rows": null,
            "grid_column": null,
            "grid_gap": null,
            "grid_row": null,
            "grid_template_areas": null,
            "grid_template_columns": null,
            "grid_template_rows": null,
            "height": null,
            "justify_content": null,
            "justify_items": null,
            "left": null,
            "margin": null,
            "max_height": null,
            "max_width": null,
            "min_height": null,
            "min_width": null,
            "object_fit": null,
            "object_position": null,
            "order": null,
            "overflow": null,
            "overflow_x": null,
            "overflow_y": null,
            "padding": null,
            "right": null,
            "top": null,
            "visibility": null,
            "width": null
          }
        },
        "a8232918bbbb4b018152f601cb4673d4": {
          "model_module": "@jupyter-widgets/controls",
          "model_module_version": "1.5.0",
          "model_name": "HTMLModel",
          "state": {
            "_dom_classes": [],
            "_model_module": "@jupyter-widgets/controls",
            "_model_module_version": "1.5.0",
            "_model_name": "HTMLModel",
            "_view_count": null,
            "_view_module": "@jupyter-widgets/controls",
            "_view_module_version": "1.5.0",
            "_view_name": "HTMLView",
            "description": "",
            "description_tooltip": null,
            "layout": "IPY_MODEL_8f7198e20cd14063b915e8f643a8bd32",
            "placeholder": "​",
            "style": "IPY_MODEL_211ca2685b114bc48c78ed0bc0d67eca",
            "value": "tokenizer.json: 100%"
          }
        },
        "a90ab109b156474b900c0700c78e742f": {
          "model_module": "@jupyter-widgets/controls",
          "model_module_version": "1.5.0",
          "model_name": "HBoxModel",
          "state": {
            "_dom_classes": [],
            "_model_module": "@jupyter-widgets/controls",
            "_model_module_version": "1.5.0",
            "_model_name": "HBoxModel",
            "_view_count": null,
            "_view_module": "@jupyter-widgets/controls",
            "_view_module_version": "1.5.0",
            "_view_name": "HBoxView",
            "box_style": "",
            "children": [
              "IPY_MODEL_e90c45bbdd634e0989aef8d5f2372217",
              "IPY_MODEL_bef3f54b54af41ff89f4344cfb2f79e2",
              "IPY_MODEL_fbd95c9c9ea1444f9227c67213c68d61"
            ],
            "layout": "IPY_MODEL_48d91bcafcd049609f976f69a87bc387"
          }
        },
        "b193bbfa554a4e4f9755d3750515f674": {
          "model_module": "@jupyter-widgets/base",
          "model_module_version": "1.2.0",
          "model_name": "LayoutModel",
          "state": {
            "_model_module": "@jupyter-widgets/base",
            "_model_module_version": "1.2.0",
            "_model_name": "LayoutModel",
            "_view_count": null,
            "_view_module": "@jupyter-widgets/base",
            "_view_module_version": "1.2.0",
            "_view_name": "LayoutView",
            "align_content": null,
            "align_items": null,
            "align_self": null,
            "border": null,
            "bottom": null,
            "display": null,
            "flex": null,
            "flex_flow": null,
            "grid_area": null,
            "grid_auto_columns": null,
            "grid_auto_flow": null,
            "grid_auto_rows": null,
            "grid_column": null,
            "grid_gap": null,
            "grid_row": null,
            "grid_template_areas": null,
            "grid_template_columns": null,
            "grid_template_rows": null,
            "height": null,
            "justify_content": null,
            "justify_items": null,
            "left": null,
            "margin": null,
            "max_height": null,
            "max_width": null,
            "min_height": null,
            "min_width": null,
            "object_fit": null,
            "object_position": null,
            "order": null,
            "overflow": null,
            "overflow_x": null,
            "overflow_y": null,
            "padding": null,
            "right": null,
            "top": null,
            "visibility": null,
            "width": null
          }
        },
        "b8328076bfb44c2e904f1324f2a68256": {
          "model_module": "@jupyter-widgets/controls",
          "model_module_version": "1.5.0",
          "model_name": "DescriptionStyleModel",
          "state": {
            "_model_module": "@jupyter-widgets/controls",
            "_model_module_version": "1.5.0",
            "_model_name": "DescriptionStyleModel",
            "_view_count": null,
            "_view_module": "@jupyter-widgets/base",
            "_view_module_version": "1.2.0",
            "_view_name": "StyleView",
            "description_width": ""
          }
        },
        "bb762a2d06764285a34cf19b7c7575cd": {
          "model_module": "@jupyter-widgets/base",
          "model_module_version": "1.2.0",
          "model_name": "LayoutModel",
          "state": {
            "_model_module": "@jupyter-widgets/base",
            "_model_module_version": "1.2.0",
            "_model_name": "LayoutModel",
            "_view_count": null,
            "_view_module": "@jupyter-widgets/base",
            "_view_module_version": "1.2.0",
            "_view_name": "LayoutView",
            "align_content": null,
            "align_items": null,
            "align_self": null,
            "border": null,
            "bottom": null,
            "display": null,
            "flex": null,
            "flex_flow": null,
            "grid_area": null,
            "grid_auto_columns": null,
            "grid_auto_flow": null,
            "grid_auto_rows": null,
            "grid_column": null,
            "grid_gap": null,
            "grid_row": null,
            "grid_template_areas": null,
            "grid_template_columns": null,
            "grid_template_rows": null,
            "height": null,
            "justify_content": null,
            "justify_items": null,
            "left": null,
            "margin": null,
            "max_height": null,
            "max_width": null,
            "min_height": null,
            "min_width": null,
            "object_fit": null,
            "object_position": null,
            "order": null,
            "overflow": null,
            "overflow_x": null,
            "overflow_y": null,
            "padding": null,
            "right": null,
            "top": null,
            "visibility": null,
            "width": null
          }
        },
        "bef3f54b54af41ff89f4344cfb2f79e2": {
          "model_module": "@jupyter-widgets/controls",
          "model_module_version": "1.5.0",
          "model_name": "FloatProgressModel",
          "state": {
            "_dom_classes": [],
            "_model_module": "@jupyter-widgets/controls",
            "_model_module_version": "1.5.0",
            "_model_name": "FloatProgressModel",
            "_view_count": null,
            "_view_module": "@jupyter-widgets/controls",
            "_view_module_version": "1.5.0",
            "_view_name": "ProgressView",
            "bar_style": "success",
            "description": "",
            "description_tooltip": null,
            "layout": "IPY_MODEL_3f37baf1624b42209ee601598e1f1aa9",
            "max": 440449768,
            "min": 0,
            "orientation": "horizontal",
            "style": "IPY_MODEL_60ff803316e24cfaaadf1aed4aa13cbe",
            "value": 440449768
          }
        },
        "bf1004db8aed4bf6869dca7e54d6e1b2": {
          "model_module": "@jupyter-widgets/controls",
          "model_module_version": "1.5.0",
          "model_name": "DescriptionStyleModel",
          "state": {
            "_model_module": "@jupyter-widgets/controls",
            "_model_module_version": "1.5.0",
            "_model_name": "DescriptionStyleModel",
            "_view_count": null,
            "_view_module": "@jupyter-widgets/base",
            "_view_module_version": "1.2.0",
            "_view_name": "StyleView",
            "description_width": ""
          }
        },
        "e0e050c822944b909f6abe29cadaef42": {
          "model_module": "@jupyter-widgets/controls",
          "model_module_version": "1.5.0",
          "model_name": "HBoxModel",
          "state": {
            "_dom_classes": [],
            "_model_module": "@jupyter-widgets/controls",
            "_model_module_version": "1.5.0",
            "_model_name": "HBoxModel",
            "_view_count": null,
            "_view_module": "@jupyter-widgets/controls",
            "_view_module_version": "1.5.0",
            "_view_name": "HBoxView",
            "box_style": "",
            "children": [
              "IPY_MODEL_fd06b6b7c7144ee28a97bb3d6624bc3c",
              "IPY_MODEL_67a3ba284469434394b10f7a71b024ce",
              "IPY_MODEL_64055a077711457bb60ba78c665ed263"
            ],
            "layout": "IPY_MODEL_43dd470cdce941b6bf4f2a165c3394d5"
          }
        },
        "e3b0a521b17c4fca82293b797a036ab5": {
          "model_module": "@jupyter-widgets/controls",
          "model_module_version": "1.5.0",
          "model_name": "ProgressStyleModel",
          "state": {
            "_model_module": "@jupyter-widgets/controls",
            "_model_module_version": "1.5.0",
            "_model_name": "ProgressStyleModel",
            "_view_count": null,
            "_view_module": "@jupyter-widgets/base",
            "_view_module_version": "1.2.0",
            "_view_name": "StyleView",
            "bar_color": null,
            "description_width": ""
          }
        },
        "e49b7919ec804fd1a8c6d322715c21af": {
          "model_module": "@jupyter-widgets/base",
          "model_module_version": "1.2.0",
          "model_name": "LayoutModel",
          "state": {
            "_model_module": "@jupyter-widgets/base",
            "_model_module_version": "1.2.0",
            "_model_name": "LayoutModel",
            "_view_count": null,
            "_view_module": "@jupyter-widgets/base",
            "_view_module_version": "1.2.0",
            "_view_name": "LayoutView",
            "align_content": null,
            "align_items": null,
            "align_self": null,
            "border": null,
            "bottom": null,
            "display": null,
            "flex": null,
            "flex_flow": null,
            "grid_area": null,
            "grid_auto_columns": null,
            "grid_auto_flow": null,
            "grid_auto_rows": null,
            "grid_column": null,
            "grid_gap": null,
            "grid_row": null,
            "grid_template_areas": null,
            "grid_template_columns": null,
            "grid_template_rows": null,
            "height": null,
            "justify_content": null,
            "justify_items": null,
            "left": null,
            "margin": null,
            "max_height": null,
            "max_width": null,
            "min_height": null,
            "min_width": null,
            "object_fit": null,
            "object_position": null,
            "order": null,
            "overflow": null,
            "overflow_x": null,
            "overflow_y": null,
            "padding": null,
            "right": null,
            "top": null,
            "visibility": null,
            "width": null
          }
        },
        "e6d6ed932f544a90b6ce71436cb41357": {
          "model_module": "@jupyter-widgets/controls",
          "model_module_version": "1.5.0",
          "model_name": "DescriptionStyleModel",
          "state": {
            "_model_module": "@jupyter-widgets/controls",
            "_model_module_version": "1.5.0",
            "_model_name": "DescriptionStyleModel",
            "_view_count": null,
            "_view_module": "@jupyter-widgets/base",
            "_view_module_version": "1.2.0",
            "_view_name": "StyleView",
            "description_width": ""
          }
        },
        "e90c45bbdd634e0989aef8d5f2372217": {
          "model_module": "@jupyter-widgets/controls",
          "model_module_version": "1.5.0",
          "model_name": "HTMLModel",
          "state": {
            "_dom_classes": [],
            "_model_module": "@jupyter-widgets/controls",
            "_model_module_version": "1.5.0",
            "_model_name": "HTMLModel",
            "_view_count": null,
            "_view_module": "@jupyter-widgets/controls",
            "_view_module_version": "1.5.0",
            "_view_name": "HTMLView",
            "description": "",
            "description_tooltip": null,
            "layout": "IPY_MODEL_b193bbfa554a4e4f9755d3750515f674",
            "placeholder": "​",
            "style": "IPY_MODEL_5e8ec6a33cb94481a14335637eb041f0",
            "value": "model.safetensors: 100%"
          }
        },
        "eaf77425e20340ef8c95848befff2644": {
          "model_module": "@jupyter-widgets/base",
          "model_module_version": "1.2.0",
          "model_name": "LayoutModel",
          "state": {
            "_model_module": "@jupyter-widgets/base",
            "_model_module_version": "1.2.0",
            "_model_name": "LayoutModel",
            "_view_count": null,
            "_view_module": "@jupyter-widgets/base",
            "_view_module_version": "1.2.0",
            "_view_name": "LayoutView",
            "align_content": null,
            "align_items": null,
            "align_self": null,
            "border": null,
            "bottom": null,
            "display": null,
            "flex": null,
            "flex_flow": null,
            "grid_area": null,
            "grid_auto_columns": null,
            "grid_auto_flow": null,
            "grid_auto_rows": null,
            "grid_column": null,
            "grid_gap": null,
            "grid_row": null,
            "grid_template_areas": null,
            "grid_template_columns": null,
            "grid_template_rows": null,
            "height": null,
            "justify_content": null,
            "justify_items": null,
            "left": null,
            "margin": null,
            "max_height": null,
            "max_width": null,
            "min_height": null,
            "min_width": null,
            "object_fit": null,
            "object_position": null,
            "order": null,
            "overflow": null,
            "overflow_x": null,
            "overflow_y": null,
            "padding": null,
            "right": null,
            "top": null,
            "visibility": null,
            "width": null
          }
        },
        "ee6203adc0534bccb85752830ec10393": {
          "model_module": "@jupyter-widgets/base",
          "model_module_version": "1.2.0",
          "model_name": "LayoutModel",
          "state": {
            "_model_module": "@jupyter-widgets/base",
            "_model_module_version": "1.2.0",
            "_model_name": "LayoutModel",
            "_view_count": null,
            "_view_module": "@jupyter-widgets/base",
            "_view_module_version": "1.2.0",
            "_view_name": "LayoutView",
            "align_content": null,
            "align_items": null,
            "align_self": null,
            "border": null,
            "bottom": null,
            "display": null,
            "flex": null,
            "flex_flow": null,
            "grid_area": null,
            "grid_auto_columns": null,
            "grid_auto_flow": null,
            "grid_auto_rows": null,
            "grid_column": null,
            "grid_gap": null,
            "grid_row": null,
            "grid_template_areas": null,
            "grid_template_columns": null,
            "grid_template_rows": null,
            "height": null,
            "justify_content": null,
            "justify_items": null,
            "left": null,
            "margin": null,
            "max_height": null,
            "max_width": null,
            "min_height": null,
            "min_width": null,
            "object_fit": null,
            "object_position": null,
            "order": null,
            "overflow": null,
            "overflow_x": null,
            "overflow_y": null,
            "padding": null,
            "right": null,
            "top": null,
            "visibility": null,
            "width": null
          }
        },
        "f10ee4a030864bf296cd48b8632798cc": {
          "model_module": "@jupyter-widgets/controls",
          "model_module_version": "1.5.0",
          "model_name": "FloatProgressModel",
          "state": {
            "_dom_classes": [],
            "_model_module": "@jupyter-widgets/controls",
            "_model_module_version": "1.5.0",
            "_model_name": "FloatProgressModel",
            "_view_count": null,
            "_view_module": "@jupyter-widgets/controls",
            "_view_module_version": "1.5.0",
            "_view_name": "ProgressView",
            "bar_style": "success",
            "description": "",
            "description_tooltip": null,
            "layout": "IPY_MODEL_083b967b8ecf451296c6e9a19e5ff494",
            "max": 231508,
            "min": 0,
            "orientation": "horizontal",
            "style": "IPY_MODEL_5a2bdffd0776439bb9093237a2a9da0e",
            "value": 231508
          }
        },
        "fbd95c9c9ea1444f9227c67213c68d61": {
          "model_module": "@jupyter-widgets/controls",
          "model_module_version": "1.5.0",
          "model_name": "HTMLModel",
          "state": {
            "_dom_classes": [],
            "_model_module": "@jupyter-widgets/controls",
            "_model_module_version": "1.5.0",
            "_model_name": "HTMLModel",
            "_view_count": null,
            "_view_module": "@jupyter-widgets/controls",
            "_view_module_version": "1.5.0",
            "_view_name": "HTMLView",
            "description": "",
            "description_tooltip": null,
            "layout": "IPY_MODEL_3c5196562caf47828deada4315a5697c",
            "placeholder": "​",
            "style": "IPY_MODEL_bf1004db8aed4bf6869dca7e54d6e1b2",
            "value": " 440M/440M [00:01&lt;00:00, 413MB/s]"
          }
        },
        "fd06b6b7c7144ee28a97bb3d6624bc3c": {
          "model_module": "@jupyter-widgets/controls",
          "model_module_version": "1.5.0",
          "model_name": "HTMLModel",
          "state": {
            "_dom_classes": [],
            "_model_module": "@jupyter-widgets/controls",
            "_model_module_version": "1.5.0",
            "_model_name": "HTMLModel",
            "_view_count": null,
            "_view_module": "@jupyter-widgets/controls",
            "_view_module_version": "1.5.0",
            "_view_name": "HTMLView",
            "description": "",
            "description_tooltip": null,
            "layout": "IPY_MODEL_5a352c8db0974970b1fbb9dcc91ea0c6",
            "placeholder": "​",
            "style": "IPY_MODEL_786baaeb9fb142f2873170315bc4c7d7",
            "value": "tokenizer_config.json: 100%"
          }
        },
        "fd22d461222e4899b8724218ba8063d8": {
          "model_module": "@jupyter-widgets/controls",
          "model_module_version": "1.5.0",
          "model_name": "HTMLModel",
          "state": {
            "_dom_classes": [],
            "_model_module": "@jupyter-widgets/controls",
            "_model_module_version": "1.5.0",
            "_model_name": "HTMLModel",
            "_view_count": null,
            "_view_module": "@jupyter-widgets/controls",
            "_view_module_version": "1.5.0",
            "_view_name": "HTMLView",
            "description": "",
            "description_tooltip": null,
            "layout": "IPY_MODEL_9a1bcb255506421a9361a854a76e56a8",
            "placeholder": "​",
            "style": "IPY_MODEL_e6d6ed932f544a90b6ce71436cb41357",
            "value": "vocab.txt: 100%"
          }
        }
      }
    }
  },
  "nbformat": 4,
  "nbformat_minor": 0
}
